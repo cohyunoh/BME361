{
 "cells": [
  {
   "cell_type": "code",
   "execution_count": 15,
   "id": "8d2d748d",
   "metadata": {},
   "outputs": [
    {
     "name": "stdout",
     "output_type": "stream",
     "text": [
      "['GAT']\n",
      "['GAT', 'GAT']\n",
      "['GAT', 'GAT']\n",
      "['GAT', 'GAT', 'GAT', 'GAT']\n",
      "9\n"
     ]
    }
   ],
   "source": [
    "import re\n",
    "seqs = ['GATCTGNNAGTTGANATGA', 'TGCCATTGATGANNNGTNNNGATCNNNCATGA', 'TGNNNGATGCNNGATCNGNNNT', 'ATGGGNCCATNNGGNNNNNGATGGATACGTGCNNNGATCCATNNGATTG']\n",
    "total = 0\n",
    "for seq in seqs:\n",
    "    list = re.findall(\"GAT\", str(seq))\n",
    "    print(list)\n",
    "    total += len(list)\n",
    "print(total)"
   ]
  },
  {
   "cell_type": "code",
   "execution_count": null,
   "id": "f2de4645",
   "metadata": {},
   "outputs": [],
   "source": []
  }
 ],
 "metadata": {
  "kernelspec": {
   "display_name": "Python 3 (ipykernel)",
   "language": "python",
   "name": "python3"
  },
  "language_info": {
   "codemirror_mode": {
    "name": "ipython",
    "version": 3
   },
   "file_extension": ".py",
   "mimetype": "text/x-python",
   "name": "python",
   "nbconvert_exporter": "python",
   "pygments_lexer": "ipython3",
   "version": "3.11.5"
  }
 },
 "nbformat": 4,
 "nbformat_minor": 5
}
