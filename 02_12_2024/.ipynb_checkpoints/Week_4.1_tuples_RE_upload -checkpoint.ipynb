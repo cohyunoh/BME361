{
 "cells": [
  {
   "cell_type": "markdown",
   "metadata": {},
   "source": [
    "## Tuples - immutable"
   ]
  },
  {
   "cell_type": "code",
   "execution_count": 1,
   "metadata": {},
   "outputs": [
    {
     "data": {
      "text/plain": [
       "[[1, 1, 1], [2, 2, 'ABC'], [3, 3, 3]]"
      ]
     },
     "execution_count": 1,
     "metadata": {},
     "output_type": "execute_result"
    }
   ],
   "source": [
    "old_list = [[1, 1, 1], [2, 2, 2], [3, 3, 3]]\n",
    "new_list = old_list.copy()  # or new_list = old_list, then everything is shared.\n",
    "\n",
    "#Change one element to see if the elements are changed in the orginal list\n",
    "new_list[1][2] = 'ABC'\n",
    "new_list"
   ]
  },
  {
   "cell_type": "code",
   "execution_count": 2,
   "metadata": {},
   "outputs": [
    {
     "data": {
      "text/plain": [
       "[[1, 1, 1], [2, 2, 'ABC'], [3, 3, 3]]"
      ]
     },
     "execution_count": 2,
     "metadata": {},
     "output_type": "execute_result"
    }
   ],
   "source": [
    "old_list"
   ]
  },
  {
   "cell_type": "code",
   "execution_count": 3,
   "metadata": {},
   "outputs": [
    {
     "data": {
      "text/plain": [
       "[[1, 1, 1], [2, 2, 'ABC'], [3, 3, 3]]"
      ]
     },
     "execution_count": 3,
     "metadata": {},
     "output_type": "execute_result"
    }
   ],
   "source": [
    "old_list = [[1, 1, 1], [2, 2, 2], [3, 3, 3]]\n",
    "new_list = old_list\n",
    "# Shallow copy: both lists share the reference of same nested objects. No new object is created. But only these existing elements are shared.\n",
    "#Change the existing element to see if the elements are changed in the orginal list\n",
    "new_list[1][2] = 'ABC'\n",
    "new_list"
   ]
  },
  {
   "cell_type": "code",
   "execution_count": 4,
   "metadata": {},
   "outputs": [
    {
     "data": {
      "text/plain": [
       "[[1, 1, 1], [2, 2, 'ABC'], [3, 3, 3]]"
      ]
     },
     "execution_count": 4,
     "metadata": {},
     "output_type": "execute_result"
    }
   ],
   "source": [
    "import copy\n",
    "old_list = [[1, 1, 1], [2, 2, 2], [3, 3, 3]]\n",
    "new_list = copy.deepcopy(old_list)\n",
    "\n",
    "#Change one element to see if the elements are changed in the orginal list\n",
    "new_list[1][2] = 'ABC'\n",
    "new_list\n"
   ]
  },
  {
   "cell_type": "code",
   "execution_count": 5,
   "metadata": {},
   "outputs": [
    {
     "data": {
      "text/plain": [
       "[[1, 1, 1], [2, 2, 2], [3, 3, 3]]"
      ]
     },
     "execution_count": 5,
     "metadata": {},
     "output_type": "execute_result"
    }
   ],
   "source": [
    "old_list"
   ]
  },
  {
   "cell_type": "markdown",
   "metadata": {},
   "source": [
    "**Create a tuple**"
   ]
  },
  {
   "cell_type": "code",
   "execution_count": 1,
   "metadata": {},
   "outputs": [],
   "source": [
    "student_tuple = (\"John\", \"Greg\", \"Jack\")\n",
    "# or simply use the following expression. They are separated by comma\n",
    "# student_tuple = \"John\", \"Greg\", \"Jack\", \"Katty\""
   ]
  },
  {
   "cell_type": "code",
   "execution_count": 2,
   "metadata": {},
   "outputs": [
    {
     "data": {
      "text/plain": [
       "tuple"
      ]
     },
     "execution_count": 2,
     "metadata": {},
     "output_type": "execute_result"
    }
   ],
   "source": [
    "type(student_tuple)"
   ]
  },
  {
   "cell_type": "code",
   "execution_count": 3,
   "metadata": {},
   "outputs": [
    {
     "data": {
      "text/plain": [
       "3"
      ]
     },
     "execution_count": 3,
     "metadata": {},
     "output_type": "execute_result"
    }
   ],
   "source": [
    "len(student_tuple) # length of the tuple"
   ]
  },
  {
   "cell_type": "code",
   "execution_count": 6,
   "metadata": {},
   "outputs": [],
   "source": [
    "# A comma is required to create a one-element tuple.\n",
    "a_singleton_tuple = (\"smith\",)\n",
    "\n",
    "# try the expression without comma to see the type"
   ]
  },
  {
   "cell_type": "code",
   "execution_count": 7,
   "metadata": {
    "scrolled": true
   },
   "outputs": [
    {
     "data": {
      "text/plain": [
       "tuple"
      ]
     },
     "execution_count": 7,
     "metadata": {},
     "output_type": "execute_result"
    }
   ],
   "source": [
    "type(a_singleton_tuple)"
   ]
  },
  {
   "cell_type": "markdown",
   "metadata": {},
   "source": [
    "**Accessing Tuple Elements** - directly access the element without iteration"
   ]
  },
  {
   "cell_type": "code",
   "execution_count": 8,
   "metadata": {},
   "outputs": [
    {
     "data": {
      "text/plain": [
       "'Greg'"
      ]
     },
     "execution_count": 8,
     "metadata": {},
     "output_type": "execute_result"
    }
   ],
   "source": [
    "student_tuple[1]"
   ]
  },
  {
   "cell_type": "code",
   "execution_count": 9,
   "metadata": {},
   "outputs": [
    {
     "data": {
      "text/plain": [
       "'Greg and Jack'"
      ]
     },
     "execution_count": 9,
     "metadata": {},
     "output_type": "execute_result"
    }
   ],
   "source": [
    "student_tuple[1] + \" and \" + student_tuple[2] #each element is a string"
   ]
  },
  {
   "cell_type": "markdown",
   "metadata": {},
   "source": [
    "**Adding items to a string or tuple**\n",
    "- += can be used with strings and tuples, even though they’re immutable. It creates a new object"
   ]
  },
  {
   "cell_type": "code",
   "execution_count": 15,
   "metadata": {},
   "outputs": [
    {
     "data": {
      "text/plain": [
       "(10, 20, 30)"
      ]
     },
     "execution_count": 15,
     "metadata": {},
     "output_type": "execute_result"
    }
   ],
   "source": [
    "tuple1 = (10, 20, 30)\n",
    "tuple2 = tuple1\n",
    "tuple2"
   ]
  },
  {
   "cell_type": "code",
   "execution_count": 16,
   "metadata": {},
   "outputs": [
    {
     "data": {
      "text/plain": [
       "1451079286528"
      ]
     },
     "execution_count": 16,
     "metadata": {},
     "output_type": "execute_result"
    }
   ],
   "source": [
    "id(tuple2)"
   ]
  },
  {
   "cell_type": "code",
   "execution_count": 17,
   "metadata": {},
   "outputs": [
    {
     "data": {
      "text/plain": [
       "1451079055808"
      ]
     },
     "execution_count": 17,
     "metadata": {},
     "output_type": "execute_result"
    }
   ],
   "source": [
    "tuple2 += (40, 50)\n",
    "id(tuple2)\n",
    "#although the same name, the pointing object is changed. We can use id() to valify"
   ]
  },
  {
   "cell_type": "code",
   "execution_count": 18,
   "metadata": {},
   "outputs": [
    {
     "data": {
      "text/plain": [
       "[99, 100, 10, 20, 30, 40, 50]"
      ]
     },
     "execution_count": 18,
     "metadata": {},
     "output_type": "execute_result"
    }
   ],
   "source": [
    "tuple3 = [99, 100]\n",
    "tuple3 +=tuple2    # list plus tuple, to make a list\n",
    "tuple3"
   ]
  },
  {
   "cell_type": "code",
   "execution_count": 19,
   "metadata": {
    "scrolled": true
   },
   "outputs": [
    {
     "data": {
      "text/plain": [
       "(10, 20, 30, 23, 43, 123)"
      ]
     },
     "execution_count": 19,
     "metadata": {},
     "output_type": "execute_result"
    }
   ],
   "source": [
    "tuple1 = (10, 20, 30)\n",
    "tuple2=(23, 43, 123)\n",
    "tuple1 + tuple2"
   ]
  },
  {
   "cell_type": "markdown",
   "metadata": {},
   "source": [
    "**Tuple may contain mutable objects**"
   ]
  },
  {
   "cell_type": "code",
   "execution_count": 20,
   "metadata": {},
   "outputs": [
    {
     "data": {
      "text/plain": [
       "('Amanda', 'Blake', [88, 87, 94])"
      ]
     },
     "execution_count": 20,
     "metadata": {},
     "output_type": "execute_result"
    }
   ],
   "source": [
    "student_tuple = (\"Amanda\", \"Blake\", [88, 98, 94])\n",
    "student_tuple[2][1] = 87   # the included list items can be changed\n",
    "student_tuple"
   ]
  },
  {
   "cell_type": "code",
   "execution_count": 21,
   "metadata": {},
   "outputs": [
    {
     "data": {
      "text/plain": [
       "[1, 2, 3, 4, 5, 6, 7, 8, 9, 10]"
      ]
     },
     "execution_count": 21,
     "metadata": {},
     "output_type": "execute_result"
    }
   ],
   "source": [
    "tuple1 = (10, 3, 7, 1, 9, 4, 2, 8, 5, 6)\n",
    "ascending_ = sorted(tuple1)\n",
    "# tuples don't have .sort method\n",
    "ascending_\n",
    "# return a list but not tuple. Of course, since tuple is immutable"
   ]
  },
  {
   "cell_type": "code",
   "execution_count": 22,
   "metadata": {},
   "outputs": [
    {
     "data": {
      "text/plain": [
       "['blue', 'orange', 'pink', 'red', 'yellow']"
      ]
     },
     "execution_count": 22,
     "metadata": {},
     "output_type": "execute_result"
    }
   ],
   "source": [
    "colors = (\"red\", \"pink\", \"blue\", \"yellow\", \"orange\")\n",
    "ascending_colors = sorted(colors)  # The colors are ranked by the first letter\n",
    "ascending_colors"
   ]
  },
  {
   "cell_type": "markdown",
   "metadata": {},
   "source": [
    "## List comprehensions \n",
    "- concise way to create new lists\n",
    "- very often seen in codes; 40% faster than for loop"
   ]
  },
  {
   "cell_type": "code",
   "execution_count": 23,
   "metadata": {},
   "outputs": [
    {
     "data": {
      "text/plain": [
       "[1, 2, 3, 4, 5]"
      ]
     },
     "execution_count": 23,
     "metadata": {},
     "output_type": "execute_result"
    }
   ],
   "source": [
    "# normal approach to make a list\n",
    "list1 =[]\n",
    "for items in range(1, 6):\n",
    "    list1.append(items)\n",
    "\n",
    "list1"
   ]
  },
  {
   "cell_type": "code",
   "execution_count": 24,
   "metadata": {},
   "outputs": [
    {
     "data": {
      "text/plain": [
       "[1, 2, 3, 4, 5]"
      ]
     },
     "execution_count": 24,
     "metadata": {},
     "output_type": "execute_result"
    }
   ],
   "source": [
    "# Now, use a list comprehension to create a list of integers\n",
    "# for clause iterates over the sequence produced by range(1, 6).\n",
    "# for each item, the list comprehension evaluates the expression to the left \"item\"\n",
    "list2 = [items for items in range(1, 6)]\n",
    "list2"
   ]
  },
  {
   "cell_type": "code",
   "execution_count": 25,
   "metadata": {},
   "outputs": [
    {
     "data": {
      "text/plain": [
       "[27, 125, 343]"
      ]
     },
     "execution_count": 25,
     "metadata": {},
     "output_type": "execute_result"
    }
   ],
   "source": [
    "# you can even do more operations to the left item of for iteration\n",
    "list3 = [(items + 2)**3   for items in range(1,6) if items%2!=0]\n",
    "list3"
   ]
  },
  {
   "cell_type": "code",
   "execution_count": 28,
   "metadata": {},
   "outputs": [
    {
     "data": {
      "text/plain": [
       "['RED', 'ORANGE', 'YELLOW', 'GREEN', 'BLUE']"
      ]
     },
     "execution_count": 28,
     "metadata": {},
     "output_type": "execute_result"
    }
   ],
   "source": [
    "colors = ['red', 'orange', 'yellow', 'green', 'blue']\n",
    "colors2 = [item.upper() for item in colors]\n",
    "colors2"
   ]
  },
  {
   "cell_type": "markdown",
   "metadata": {},
   "source": [
    "**Combine lambda to filter/map values**"
   ]
  },
  {
   "cell_type": "code",
   "execution_count": 31,
   "metadata": {},
   "outputs": [],
   "source": [
    "map??"
   ]
  },
  {
   "cell_type": "code",
   "execution_count": 32,
   "metadata": {},
   "outputs": [],
   "source": [
    "filter?"
   ]
  },
  {
   "cell_type": "code",
   "execution_count": 33,
   "metadata": {},
   "outputs": [
    {
     "data": {
      "text/plain": [
       "[100, 9, 49, 1, 81, 16, 4, 64, 25, 36]"
      ]
     },
     "execution_count": 33,
     "metadata": {},
     "output_type": "execute_result"
    }
   ],
   "source": [
    "#Function map’s first argument is a function that receives one value \n",
    "#and returns a new value.\n",
    "\n",
    "numbers = [10, 3, 7, 1, 9, 4, 2, 8, 5, 6]\n",
    "list(map(lambda x: x**2, numbers))"
   ]
  },
  {
   "cell_type": "code",
   "execution_count": 34,
   "metadata": {},
   "outputs": [
    {
     "data": {
      "text/plain": [
       "[100, 9, 49, 1, 81, 16, 4, 64, 25, 36]"
      ]
     },
     "execution_count": 34,
     "metadata": {},
     "output_type": "execute_result"
    }
   ],
   "source": [
    "# The above is equivalent to list comprehension\n",
    "[items**2 for items in numbers]"
   ]
  },
  {
   "cell_type": "code",
   "execution_count": 35,
   "metadata": {},
   "outputs": [
    {
     "data": {
      "text/plain": [
       "[9, 49, 1, 81, 25]"
      ]
     },
     "execution_count": 35,
     "metadata": {},
     "output_type": "execute_result"
    }
   ],
   "source": [
    "list(map(lambda x: x**2, filter(lambda x: x%2 != 0, numbers)))"
   ]
  },
  {
   "cell_type": "code",
   "execution_count": 36,
   "metadata": {},
   "outputs": [
    {
     "data": {
      "text/plain": [
       "[9, 49, 1, 81, 25]"
      ]
     },
     "execution_count": 36,
     "metadata": {},
     "output_type": "execute_result"
    }
   ],
   "source": [
    "#The above is equivalent to \n",
    "[x**2 for x in numbers if x%2 != 0]"
   ]
  },
  {
   "cell_type": "code",
   "execution_count": 23,
   "metadata": {},
   "outputs": [
    {
     "name": "stdout",
     "output_type": "stream",
     "text": [
      "Name = Bob; GPA = 3.5\n",
      "Name = Sue; GPA = 4.0\n",
      "Name = Amanda; GPA = 3.75\n"
     ]
    }
   ],
   "source": [
    "# What if there are more than one lists/tuples for iteration? using zip function\n",
    "names = ['Bob', 'Sue', 'Amanda']\n",
    "GPAs = [3.5, 4.0, 3.75] \n",
    "for name, gpa in zip(names, GPAs):\n",
    "    print(f\"Name = {name}; GPA = {gpa}\")"
   ]
  },
  {
   "cell_type": "code",
   "execution_count": 24,
   "metadata": {},
   "outputs": [],
   "source": [
    "#very curious about what zip does\n",
    "zip?"
   ]
  },
  {
   "cell_type": "markdown",
   "metadata": {},
   "source": [
    "**Q: can you use list comprhension to make the above expression simpler?**"
   ]
  },
  {
   "cell_type": "code",
   "execution_count": 25,
   "metadata": {},
   "outputs": [
    {
     "name": "stdout",
     "output_type": "stream",
     "text": [
      "Name = Bob; GPA = 3.5\n",
      "Name = Sue; GPA = 4.0\n",
      "Name = Amanda; GPA = 3.75\n"
     ]
    },
    {
     "data": {
      "text/plain": [
       "[None, None, None]"
      ]
     },
     "execution_count": 25,
     "metadata": {},
     "output_type": "execute_result"
    }
   ],
   "source": [
    "[print(f\"Name = {name}; GPA = {gpa}\") for name, gpa in zip(names, GPAs)]\n"
   ]
  },
  {
   "cell_type": "markdown",
   "metadata": {},
   "source": [
    "### Two-dimensional lists"
   ]
  },
  {
   "cell_type": "code",
   "execution_count": 40,
   "metadata": {},
   "outputs": [],
   "source": [
    "a = [[77, 68, 86, 73], [96, 87, 89, 81], [70, 90, 86, 81]]\n",
    "#2-D list is hard to visualize directly. Not like array in Matlab"
   ]
  },
  {
   "cell_type": "code",
   "execution_count": 41,
   "metadata": {},
   "outputs": [
    {
     "name": "stdout",
     "output_type": "stream",
     "text": [
      "77 68 86 73 \n",
      "96 87 89 81 \n",
      "70 90 86 81 \n"
     ]
    }
   ],
   "source": [
    "a = [[77, 68, 86, 73], [96, 87, 89, 81], [70, 90, 86, 81]]\n",
    "\n",
    "for row in a:\n",
    "    for item in row:\n",
    "        print(item, end=' ')\n",
    "    print()   # print empty - change line"
   ]
  },
  {
   "cell_type": "code",
   "execution_count": 42,
   "metadata": {},
   "outputs": [
    {
     "name": "stdout",
     "output_type": "stream",
     "text": [
      "a[0][0]=77   a[0][1]=68   a[0][2]=86   a[0][3]=73   \n",
      "\n",
      "a[1][0]=96   a[1][1]=87   a[1][2]=89   a[1][3]=81   \n",
      "\n",
      "a[2][0]=70   a[2][1]=90   a[2][2]=86   a[2][3]=81   \n",
      "\n"
     ]
    }
   ],
   "source": [
    "# How the Nested Loops Execute?\n",
    "for i, row in enumerate(a):  #remember enumerate extract both index and elements\n",
    "    for j, item in enumerate(row):\n",
    "        print(f\"a[{i}][{j}]={item}\", end='   ')\n",
    "    print()\n",
    "    print() # to create one more line"
   ]
  },
  {
   "cell_type": "markdown",
   "metadata": {},
   "source": [
    "## Regular expression for string operation\n",
    "- note that it targets strings such as long texts, or within collections, but not collections (list, tuple, dictionary, set) directly"
   ]
  },
  {
   "cell_type": "markdown",
   "metadata": {},
   "source": [
    "**fullmatch** checks whether the entire string in its second argument matches the pattern in its first argument. We learn from here although it is less practically useful"
   ]
  },
  {
   "cell_type": "code",
   "execution_count": 4,
   "metadata": {
    "scrolled": true
   },
   "outputs": [
    {
     "data": {
      "text/plain": [
       "'Match'"
      ]
     },
     "execution_count": 4,
     "metadata": {},
     "output_type": "execute_result"
    }
   ],
   "source": [
    "import re\n",
    "pattern = \"02215\"\n",
    "\"Match\" if re.fullmatch(pattern, \"02215\") else \"No match\""
   ]
  },
  {
   "cell_type": "markdown",
   "metadata": {},
   "source": [
    "Regular expressions typically contain various special symbols called metacharacters:\n",
    "\n",
    "- Regular expression metacharacters\n",
    "[] {} () \\ * + ^ $ ? . |\n",
    "\n",
    "- **\\ metacharacter** begins each predefined character class"
   ]
  },
  {
   "cell_type": "code",
   "execution_count": 7,
   "metadata": {},
   "outputs": [
    {
     "data": {
      "text/plain": [
       "'Valid'"
      ]
     },
     "execution_count": 7,
     "metadata": {},
     "output_type": "execute_result"
    }
   ],
   "source": [
    "# In \\d{5}, \\d is a character class representing a digit (0–9)\n",
    "# {5} repeats \\d five times to match five consecutive digits\n",
    "\n",
    "\"Valid\" if re.fullmatch('\\d{5}', \"02215\") else \"Invalid\""
   ]
  },
  {
   "cell_type": "code",
   "execution_count": 8,
   "metadata": {
    "scrolled": true
   },
   "outputs": [
    {
     "data": {
      "text/plain": [
       "'Invalid'"
      ]
     },
     "execution_count": 8,
     "metadata": {},
     "output_type": "execute_result"
    }
   ],
   "source": [
    "\"Valid\" if re.fullmatch('d\\{5}', \"9877\") else \"Invalid\""
   ]
  },
  {
   "cell_type": "markdown",
   "metadata": {},
   "source": [
    "? quantifier matches **zero or one** occurrences of a subexpression\n",
    "-  against * that means >=0 occurrence; + means >=1 occurrence"
   ]
  },
  {
   "cell_type": "code",
   "execution_count": 14,
   "metadata": {},
   "outputs": [
    {
     "data": {
      "text/plain": [
       "'Match'"
      ]
     },
     "execution_count": 14,
     "metadata": {},
     "output_type": "execute_result"
    }
   ],
   "source": [
    "'Match' if re.fullmatch('labell?ed', 'labelled') else 'No match'\n",
    "#l? indicates that there can be zero or one more l characters before the remaining literal ed characters"
   ]
  },
  {
   "cell_type": "markdown",
   "metadata": {},
   "source": [
    "match at least n occurrences of a subexpression with the {n,} quantifier"
   ]
  },
  {
   "cell_type": "code",
   "execution_count": 15,
   "metadata": {
    "scrolled": true
   },
   "outputs": [
    {
     "data": {
      "text/plain": [
       "'Match'"
      ]
     },
     "execution_count": 15,
     "metadata": {},
     "output_type": "execute_result"
    }
   ],
   "source": [
    "'Match' if re.fullmatch('\\d{3,}', '1245548') else 'No match'"
   ]
  },
  {
   "cell_type": "code",
   "execution_count": 21,
   "metadata": {},
   "outputs": [
    {
     "data": {
      "text/plain": [
       "'No match'"
      ]
     },
     "execution_count": 21,
     "metadata": {},
     "output_type": "execute_result"
    }
   ],
   "source": [
    "'Match' if re.fullmatch('\\d{3,6}', '1245548') else 'No match'"
   ]
  },
  {
   "cell_type": "markdown",
   "metadata": {},
   "source": [
    "To match any metacharacter as its literal value, precede it by a backslash (\\\\) \\\n",
    "    **\\d     Any digit** \\\n",
    "    \\D     Any character that is not a digit \\\n",
    "    \\s     Any whitespace \\\n",
    "    \\S     Any character not whitespace \\\n",
    "    **\\w     Any alphanumeric character** \\\n",
    "    \\W     Any character not alphanumeric \n",
    "\n",
    "\n",
    "**By default, those are single character to match.** \n",
    "   "
   ]
  },
  {
   "cell_type": "markdown",
   "metadata": {},
   "source": [
    " **for any given pattern, there are probably multiple ways to describe it using a regular expression**"
   ]
  },
  {
   "cell_type": "markdown",
   "metadata": {},
   "source": [
    "**Custom character classes** - https://docs.python.org/3/library/re.html\n",
    "- Square brackets, [], define a custom character class that matches a **single** character\n",
    "- [A-Z] matches an uppercase letter\n",
    "- [a-z] matches a lowercase letter\n",
    "- [a-zA-Z] matches any lowercase or uppercase letter"
   ]
  },
  {
   "cell_type": "markdown",
   "metadata": {},
   "source": [
    "**Comparison**\n",
    "- re.search: will stop after the first match. result.start() or .end(), to return location, .group() or index[0] for content\n",
    "- re.findall: returns all non-overlapping matches of patter in string as a list of strings\n",
    "- re.finderiter: returns \n"
   ]
  },
  {
   "cell_type": "code",
   "execution_count": 23,
   "metadata": {},
   "outputs": [],
   "source": [
    "new_seq = \"ATGGGGGTAG\"\n",
    "new_seq = new_seq.upper()"
   ]
  },
  {
   "cell_type": "code",
   "execution_count": 24,
   "metadata": {},
   "outputs": [
    {
     "name": "stdout",
     "output_type": "stream",
     "text": [
      "no restriction site found!\n"
     ]
    }
   ],
   "source": [
    "# use the coronv.seq as the example for ALTERNATION\n",
    "# A|T means either A or T\n",
    "\n",
    "if re.search(\"GG[A|T]CC\",str(new_seq)):\n",
    "    print(\"restriction site found!\")\n",
    "else:\n",
    "    print(\"no restriction site found!\")"
   ]
  },
  {
   "cell_type": "code",
   "execution_count": 25,
   "metadata": {},
   "outputs": [
    {
     "name": "stdout",
     "output_type": "stream",
     "text": [
      "no restriction site found!\n"
     ]
    }
   ],
   "source": [
    "if re.search(\"GG[ATGC]CC\",str(new_seq)):   # same result: any letter of A, T , G , C\n",
    "    print(\"restriction site found!\")\n",
    "else:\n",
    "    print(\"no restriction site found!\")"
   ]
  },
  {
   "cell_type": "code",
   "execution_count": 26,
   "metadata": {},
   "outputs": [
    {
     "data": {
      "text/plain": [
       "['ATGGGGGTGG']"
      ]
     },
     "execution_count": 26,
     "metadata": {},
     "output_type": "execute_result"
    }
   ],
   "source": [
    "# What is wrong?\n",
    "result = re.findall(\"ATG[ATCG]+?T[A|G][G|A]\", str(new_seq))  # match any sequence of DNA starting with ATG and terminated by a stop codon (TAG, TAA, or TGA)\n",
    "result    "
   ]
  },
  {
   "cell_type": "code",
   "execution_count": 27,
   "metadata": {},
   "outputs": [
    {
     "data": {
      "text/plain": [
       "[]"
      ]
     },
     "execution_count": 27,
     "metadata": {},
     "output_type": "execute_result"
    }
   ],
   "source": [
    "result = re.findall(\"(ATG[A]{1,})\",str(new_seq)) \n",
    "result    "
   ]
  },
  {
   "cell_type": "code",
   "execution_count": 29,
   "metadata": {},
   "outputs": [
    {
     "data": {
      "text/plain": [
       "['ATGGGGGTG']"
      ]
     },
     "execution_count": 29,
     "metadata": {},
     "output_type": "execute_result"
    }
   ],
   "source": [
    "# Wrong? what is wrong\n",
    "result = re.findall(\"(ATG[A-Z]{1,100}T[AA|AG|GA])\",str(new_seq))  # match any sequence of DNA starting with ATG and terminated by a stop codon (TAG, TAA, or TGA)\n",
    "result      # with limited span, otherwise too aggressive  "
   ]
  },
  {
   "cell_type": "code",
   "execution_count": 30,
   "metadata": {},
   "outputs": [
    {
     "data": {
      "text/plain": [
       "[]"
      ]
     },
     "execution_count": 30,
     "metadata": {},
     "output_type": "execute_result"
    }
   ],
   "source": [
    "result = re.findall(\"ATG.+?(?=TAG)\", str(new_seq))  # match any sequence of DNA starting with ATG and terminated by a stop codon (TAG, TAA, or TGA)\n",
    "result   "
   ]
  },
  {
   "cell_type": "code",
   "execution_count": null,
   "metadata": {},
   "outputs": [],
   "source": [
    "result = re.findall(\"ATG.+?(?=TAG|TAA|TGA)\\w\\w\\w\", str(new_seq))  # match any sequence of DNA starting with ATG and terminated by a stop codon (TAG, TAA, or TGA)\n",
    "result   "
   ]
  },
  {
   "cell_type": "code",
   "execution_count": null,
   "metadata": {},
   "outputs": [],
   "source": []
  },
  {
   "cell_type": "markdown",
   "metadata": {},
   "source": [
    "**Useful functions**"
   ]
  },
  {
   "cell_type": "markdown",
   "metadata": {},
   "source": [
    "search: looks in a string for the **first occurence** of a substring that matches a regular expression and returns a match object that contains the matching substring"
   ]
  },
  {
   "cell_type": "code",
   "execution_count": null,
   "metadata": {},
   "outputs": [],
   "source": [
    "# use ^ to search from the beginning of a string\n",
    "result = re.search('fun$', 'Python is fun')\n",
    "result.group() if result else 'not found'"
   ]
  },
  {
   "cell_type": "code",
   "execution_count": null,
   "metadata": {},
   "outputs": [],
   "source": [
    "result = re.search('is$', 'Python is fun')\n",
    "result.group() if result else 'not found'"
   ]
  },
  {
   "cell_type": "markdown",
   "metadata": {},
   "source": [
    "### **findall**: find every matching substring in a string"
   ]
  },
  {
   "cell_type": "code",
   "execution_count": null,
   "metadata": {},
   "outputs": [],
   "source": [
    "contact = 'Wally White, Home: 555-555-1234, Work: 555-555-4321'\n",
    "re.findall('\\d{3}-\\d{3}-\\d{4}', contact)"
   ]
  },
  {
   "cell_type": "markdown",
   "metadata": {},
   "source": [
    "**Capturing substrings in a Match**\n",
    "- Use parentheses metacharacters ( and ) to capture substrings in a match"
   ]
  },
  {
   "cell_type": "code",
   "execution_count": null,
   "metadata": {},
   "outputs": [],
   "source": [
    " text = 'Pieter-Jan Kwant | Chief of Health Product Department | email: kwantP@ge.com | Office +01 (525)374-8546'"
   ]
  },
  {
   "cell_type": "code",
   "execution_count": null,
   "metadata": {},
   "outputs": [],
   "source": [
    "pattern = 'email: (\\w+@\\w+\\.\\w{3})'\n",
    "# \\w+ means more than one alphanumeric character. \\. means normal dot; otherwise it becomes any character.\n",
    "# last \\w{3} means exactly 3 alphanumeric characters.\n",
    "result = re.findall(pattern, text)\n",
    "result"
   ]
  },
  {
   "cell_type": "code",
   "execution_count": null,
   "metadata": {
    "scrolled": false
   },
   "outputs": [],
   "source": [
    "email_text = '\"From: jun.wang.5\" <jun.wang.5@stonybrook.edu>; \\\n",
    "Date: Fri, Nov 29, 2019 08:57 AM \\\n",
    "To: \"Sam Goody\"<**yl@foxmail.com>; \\\n",
    "Subject: Re: Application for PhD program'\n",
    "\n",
    "y = re.findall(\"@([^ ]*)\", email_text)\n",
    "y"
   ]
  },
  {
   "cell_type": "code",
   "execution_count": null,
   "metadata": {},
   "outputs": [],
   "source": [
    "#email_text = '\"From: jun.wang.5\" <jun.wang.5@stonybrook.edu>;'\n",
    "y = re.findall(\"(\\w+@[^ ]*)\", email_text)\n",
    "y"
   ]
  },
  {
   "cell_type": "markdown",
   "metadata": {},
   "source": [
    "**Q: how to extract the whole email jun.wang.5@stonybrook.edu ?**"
   ]
  },
  {
   "cell_type": "code",
   "execution_count": null,
   "metadata": {},
   "outputs": [],
   "source": []
  }
 ],
 "metadata": {
  "kernelspec": {
   "display_name": "Python 3 (ipykernel)",
   "language": "python",
   "name": "python3"
  },
  "language_info": {
   "codemirror_mode": {
    "name": "ipython",
    "version": 3
   },
   "file_extension": ".py",
   "mimetype": "text/x-python",
   "name": "python",
   "nbconvert_exporter": "python",
   "pygments_lexer": "ipython3",
   "version": "3.11.5"
  }
 },
 "nbformat": 4,
 "nbformat_minor": 4
}
