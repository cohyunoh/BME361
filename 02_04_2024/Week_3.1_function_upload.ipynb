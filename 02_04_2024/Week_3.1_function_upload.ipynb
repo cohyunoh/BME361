{
 "cells": [
  {
   "cell_type": "markdown",
   "metadata": {},
   "source": [
    "**Program development:** \n",
    ">A class of ten students took a quiz. Their grades (integers in the range 0 – 100) are 98, 76, 71, 87, 83, 90, 57, 79, 82, 94. Determine the class average on the quiz."
   ]
  },
  {
   "cell_type": "code",
   "execution_count": null,
   "metadata": {},
   "outputs": [],
   "source": [
    "grades = [98, 76, 71, 87, 83, 90, 57, 79, 82, 94]"
   ]
  },
  {
   "cell_type": "code",
   "execution_count": 7,
   "metadata": {},
   "outputs": [
    {
     "name": "stdout",
     "output_type": "stream",
     "text": [
      "Class average is 81.7\n",
      "Class average is 81.7\n"
     ]
    }
   ],
   "source": [
    "#assuming you don't know that library, let's do it manually\n",
    "total = 0  # sum of grades\n",
    "grade_counter = 0  \n",
    "grades = [98, 76, 71, 87, 83, 90, 57, 79, 82, 94]  # list of 10 grades\n",
    "\n",
    "# processing phase\n",
    "for grade in grades:  \n",
    "    total += grade  # add current grade to the running total\n",
    "    grade_counter += 1  # indicate that one more grade was processed\n",
    "\n",
    "# termination phase\n",
    "average = total / grade_counter\n",
    "print(f'Class average is {average}')\n",
    "print(\"Class average is\", average)  # same result but alternative way to print the result"
   ]
  },
  {
   "cell_type": "markdown",
   "metadata": {},
   "source": [
    "**Sentinel-controlled program (indefinite repetition )**"
   ]
  },
  {
   "cell_type": "code",
   "execution_count": 6,
   "metadata": {
    "scrolled": true
   },
   "outputs": [
    {
     "name": "stdout",
     "output_type": "stream",
     "text": [
      "Enter grade, -1 to end: 98\n",
      "Enter grade, -1 to end: 76\n",
      "Enter grade, -1 to end: 71\n",
      "Enter grade, -1 to end: 87\n",
      "Enter grade, -1 to end: 83\n",
      "Enter grade, -1 to end: 90\n",
      "Enter grade, -1 to end: 57\n",
      "Enter grade, -1 to end: 79\n",
      "Enter grade, -1 to end: 82\n",
      "Enter grade, -1 to end: 94\n",
      "Enter grade, -1 to end: -1\n",
      "Class average is 74.18\n"
     ]
    }
   ],
   "source": [
    "# initialization phase\n",
    "total = 0  # sum of grades\n",
    "grade_counter = 0  # number of grades entered\n",
    "\n",
    "# processing phase\n",
    "grade = int(input('Enter grade, -1 to end: '))  # get one grade\n",
    "\n",
    "while grade != -1:\n",
    "                 #How to assign the values to total and grade_counter?\n",
    "    grade_counter+=1\n",
    "    total+=grade\n",
    "    grade = int(input('Enter grade, -1 to end: '))\n",
    "\n",
    "# termination phase\n",
    "if grade_counter != 0:\n",
    "    average = total / grade_counter\n",
    "    print(f'Class average is {average: >4.2f}')\n",
    "else:\n",
    "    print('No grades were entered')"
   ]
  },
  {
   "cell_type": "markdown",
   "metadata": {},
   "source": [
    "### What is wrong? "
   ]
  },
  {
   "cell_type": "markdown",
   "metadata": {},
   "source": []
  },
  {
   "cell_type": "markdown",
   "metadata": {},
   "source": [
    "**Create a graphical interface**"
   ]
  },
  {
   "cell_type": "code",
   "execution_count": 10,
   "metadata": {},
   "outputs": [],
   "source": [
    "from tkinter import *\n",
    "\n",
    "# Let's create the Tkinter window\n",
    "window = Tk()\n",
    "\n",
    "# Then, you will define the size of the window in width(350) and height(100) using the 'geometry' method\n",
    "window.geometry(\"350x100\")\n",
    "\n",
    "\n",
    "#Finally, define the title of the window\n",
    "window.title(\"Grade calculator\")\n",
    "\n",
    "\n",
    "# Our design is to input grades separated by ',',  and then calculate the average grade.\n",
    "#So, we need one input cell, and one button (average grades)\n",
    "\n",
    "\n",
    "# Create the entry label first\n",
    "input_label=Label(window, text = 'grades(separate by ,)', font=(\"Arial Bold\", 9))\n",
    "input_label.grid(row=0, column=0)  # must define the location by taking the whole window as grid\n",
    "\n",
    "# create entry cell\n",
    "input_text = StringVar()\n",
    "entry1= Entry(window, textvariable = input_text, width = 20)\n",
    "entry1.grid(row=0, column=1)\n"
   ]
  },
  {
   "cell_type": "code",
   "execution_count": 11,
   "metadata": {},
   "outputs": [
    {
     "ename": "SyntaxError",
     "evalue": "invalid syntax (2197603460.py, line 1)",
     "output_type": "error",
     "traceback": [
      "\u001b[1;36m  Cell \u001b[1;32mIn[11], line 1\u001b[1;36m\u001b[0m\n\u001b[1;33m    input_label.\u001b[0m\n\u001b[1;37m                ^\u001b[0m\n\u001b[1;31mSyntaxError\u001b[0m\u001b[1;31m:\u001b[0m invalid syntax\n"
     ]
    }
   ],
   "source": [
    "input_label."
   ]
  },
  {
   "cell_type": "code",
   "execution_count": 12,
   "metadata": {},
   "outputs": [],
   "source": [
    "def calcMean ():  \n",
    "    values = entry1.get().split(',')\n",
    "    n = len(values)\n",
    "    \n",
    "    sum = 0\n",
    "    for items in values:\n",
    "        sum = sum + float(items)\n",
    "        \n",
    "    aver = sum/n\n",
    "    \n",
    "    output_label2 = Label(window, text= aver)\n",
    "    output_label2.grid(row=1, column=1)\n",
    "\n",
    "    \n",
    "button1 = Button(text='Calculate mean grade', command = calcMean, width = 20)\n",
    "button1.grid(row=1, column=0)\n",
    "\n",
    "\n",
    "window.mainloop()"
   ]
  },
  {
   "cell_type": "code",
   "execution_count": null,
   "metadata": {},
   "outputs": [],
   "source": []
  },
  {
   "cell_type": "markdown",
   "metadata": {},
   "source": [
    "## Define and ceate new functions"
   ]
  },
  {
   "cell_type": "code",
   "execution_count": null,
   "metadata": {},
   "outputs": [],
   "source": [
    "def print_lyrics():\n",
    "    \"\"\"print out lyrics\"\"\"  # It is always preferred to include docstring to explain this function\n",
    "    print(\"I'm a lumberjack, and I'm okay.\")\n",
    "    print('I sleep all night and I work all day.')\n"
   ]
  },
  {
   "cell_type": "code",
   "execution_count": null,
   "metadata": {},
   "outputs": [],
   "source": [
    "print_lyrics()"
   ]
  },
  {
   "cell_type": "code",
   "execution_count": null,
   "metadata": {},
   "outputs": [],
   "source": [
    "# This function greet inform the word of greeting in different languages\n",
    "def greet(lang):  #lang is a parameter\n",
    "    \"\"\"Inform the greeting word in different language\"\"\"\n",
    "    if lang == 'es':\n",
    "        print('Hola')\n",
    "    elif lang == 'fr':\n",
    "        print('Bonjour')\n",
    "    else:\n",
    "        print('Hello')\n"
   ]
  },
  {
   "cell_type": "code",
   "execution_count": null,
   "metadata": {},
   "outputs": [],
   "source": [
    "greet('how to say greeting')  # try other language 'es' and 'fr'"
   ]
  },
  {
   "cell_type": "markdown",
   "metadata": {},
   "source": [
    "Function calls also can be embedded in expressions (depends on the specific function)"
   ]
  },
  {
   "cell_type": "code",
   "execution_count": null,
   "metadata": {},
   "outputs": [],
   "source": [
    "# return a value to be used as the value of the function \n",
    "def greet():\n",
    "    \"\"\"Use return in function definition\"\"\"\n",
    "    return \"Hello\"\n",
    "\n",
    "print(greet(), \"Glenn\") # print function permit other function embeded\n",
    "print(greet(), \"Jack\") # print function permit other function embeded"
   ]
  },
  {
   "cell_type": "markdown",
   "metadata": {},
   "source": [
    "- **return** followed by an expression.\n",
    "- **return** without an expression implicitly returns None—represents -   the absence of a value and evaluates to False in conditions.\n",
    "- **No return statement implicitly returns None.**\n"
   ]
  },
  {
   "cell_type": "code",
   "execution_count": null,
   "metadata": {},
   "outputs": [],
   "source": [
    "# Use ? after the function to know docstring of the function\n",
    "greet?"
   ]
  },
  {
   "cell_type": "code",
   "execution_count": null,
   "metadata": {},
   "outputs": [],
   "source": [
    "# ?? displays the function’s docstring and full source-code definition\n",
    "#, if they are accessible\n",
    "greet??"
   ]
  },
  {
   "cell_type": "code",
   "execution_count": null,
   "metadata": {},
   "outputs": [],
   "source": [
    "max??"
   ]
  },
  {
   "cell_type": "markdown",
   "metadata": {},
   "source": [
    "See multiple inputs. What do they mean?"
   ]
  },
  {
   "cell_type": "markdown",
   "metadata": {},
   "source": []
  },
  {
   "cell_type": "markdown",
   "metadata": {},
   "source": [
    "##### with multiple parameter"
   ]
  },
  {
   "cell_type": "markdown",
   "metadata": {},
   "source": [
    "To determine the largest value:\n",
    "- Assume that value1 contains the largest value.\n",
    "- The first if statement then tests value2 > max_value, and if this condition is True assigns value2 to max_value.\n",
    "- The second if statement then tests value3 > max_value, and if this condition is True assigns value3 to max_value.\n",
    "- Now, max_value contains the largest value."
   ]
  },
  {
   "cell_type": "code",
   "execution_count": null,
   "metadata": {},
   "outputs": [],
   "source": [
    "def maximum_calculator(value1, value2, value3):\n",
    "    \"\"\"Return the maximum of three values\"\"\"\n",
    "    max_value = value1   #initialize\n",
    "    if value2 > max_value:\n",
    "        max_value = value2\n",
    "    if value3 > max_value:\n",
    "        max_value = value3\n",
    "    return max_value"
   ]
  },
  {
   "cell_type": "code",
   "execution_count": null,
   "metadata": {},
   "outputs": [],
   "source": [
    "maximum_calculator(12, 33, 54)"
   ]
  },
  {
   "cell_type": "code",
   "execution_count": null,
   "metadata": {},
   "outputs": [],
   "source": [
    "maximum_calculator(\"yellow\", \"black\", \"orange\")\n",
    "# Python 3 uses Unicode that takes <=4 bytes per character. \n",
    "#The leftmost character is compared first."
   ]
  },
  {
   "cell_type": "markdown",
   "metadata": {},
   "source": [
    "**special case: default parameter values**"
   ]
  },
  {
   "cell_type": "code",
   "execution_count": null,
   "metadata": {},
   "outputs": [],
   "source": [
    "def rectangle_area(length=2, width=3):\n",
    "    \"\"\"Return a rectangle's area\"\"\"\n",
    "    return length * width"
   ]
  },
  {
   "cell_type": "code",
   "execution_count": null,
   "metadata": {},
   "outputs": [],
   "source": [
    "rectangle_area(23)  # with one input, goes to length, with default width\n",
    "#rectangle_area(23,2)  \n",
    "#rectangle_area()  #no input"
   ]
  },
  {
   "cell_type": "markdown",
   "metadata": {},
   "source": [
    "**When calling functions, you can use keyword arguments to pass arguments in any order**"
   ]
  },
  {
   "cell_type": "code",
   "execution_count": null,
   "metadata": {},
   "outputs": [],
   "source": [
    "def rectangle_shape(length, width):\n",
    "    \"\"\"Return a rectangle's shape\"\"\"\n",
    "    return (length / width)"
   ]
  },
  {
   "cell_type": "code",
   "execution_count": null,
   "metadata": {},
   "outputs": [],
   "source": [
    "rectangle_shape(width=5, length=10)"
   ]
  },
  {
   "cell_type": "markdown",
   "metadata": {},
   "source": [
    "**With arbitrary argument lists** input any number of arguments"
   ]
  },
  {
   "cell_type": "code",
   "execution_count": null,
   "metadata": {},
   "outputs": [],
   "source": [
    "def average_calculator(*args): # if multiple parameters, *args must be the rightmost one\n",
    "    return sum(args)/len(args)\n",
    "# The * operator, when applied to an iterable argument in a function call,\n",
    "# unpacks its elements (tuple, list or iterable elements)."
   ]
  },
  {
   "cell_type": "code",
   "execution_count": null,
   "metadata": {
    "scrolled": false
   },
   "outputs": [],
   "source": [
    "average_calculator(33,22,21,43,22)"
   ]
  },
  {
   "cell_type": "code",
   "execution_count": null,
   "metadata": {},
   "outputs": [],
   "source": [
    "average_calculator(33,22)"
   ]
  },
  {
   "cell_type": "markdown",
   "metadata": {},
   "source": [
    "**Local and global scope**"
   ]
  },
  {
   "cell_type": "code",
   "execution_count": null,
   "metadata": {},
   "outputs": [],
   "source": [
    "#Accessing a Global Variable from a Function\n",
    "x = 7         # to the following def, x is a global variable\n",
    "def access_global():\n",
    "    print(\"x printed from access_global:\", x)\n",
    "\n",
    "access_global()"
   ]
  },
  {
   "cell_type": "code",
   "execution_count": null,
   "metadata": {},
   "outputs": [],
   "source": [
    "# By default, you cannot modify a global variable in a function\n",
    "# Python creates a new local variable when you first assign a value to a variable in a function's block\n",
    "# In function try_to_modify_global’s block, the local x shadows the global x, making it inaccessible in the scope of the function’s block.\n",
    "\n",
    "def try_to_modify_global():\n",
    "    x = 3.5    # in this case, x is temporal and removed after execution\n",
    "    print(\"x printed from try_to_modify_global:\", x)\n",
    "    \n",
    "try_to_modify_global()"
   ]
  },
  {
   "cell_type": "markdown",
   "metadata": {},
   "source": [
    "### Question: what is the value of x now?"
   ]
  },
  {
   "cell_type": "code",
   "execution_count": null,
   "metadata": {},
   "outputs": [],
   "source": [
    "def modify_x_global():\n",
    "    global x\n",
    "    x = \"Hello\"\n",
    "    print(\"x printed from modify_x_global:\", x)"
   ]
  },
  {
   "cell_type": "code",
   "execution_count": null,
   "metadata": {},
   "outputs": [],
   "source": [
    "modify_x_global()"
   ]
  },
  {
   "cell_type": "code",
   "execution_count": null,
   "metadata": {},
   "outputs": [],
   "source": [
    "x # now x is modified inside and outside of the control statement"
   ]
  },
  {
   "cell_type": "markdown",
   "metadata": {},
   "source": [
    "### Lambda expression to define functions"
   ]
  },
  {
   "cell_type": "code",
   "execution_count": null,
   "metadata": {},
   "outputs": [],
   "source": [
    "square = lambda x : x * x\n",
    "square(3)"
   ]
  },
  {
   "cell_type": "code",
   "execution_count": null,
   "metadata": {},
   "outputs": [],
   "source": [
    "(lambda x, y: x + y)(2, 3) "
   ]
  },
  {
   "cell_type": "code",
   "execution_count": null,
   "metadata": {},
   "outputs": [],
   "source": [
    "sorted?"
   ]
  },
  {
   "cell_type": "code",
   "execution_count": null,
   "metadata": {},
   "outputs": [],
   "source": [
    "ids = ['id1', 'id2', 'id30', 'id3', 'id22', 'id100']\n",
    "sorted_ids = sorted(ids, key=lambda x: int(x[2:]))   # sort by the 3rd to last characters of the string\n",
    "print(sorted_ids)"
   ]
  },
  {
   "cell_type": "markdown",
   "metadata": {},
   "source": [
    "Functions that allows for another embeded function in the expression can have lambda. Often use within filter, map, reduce"
   ]
  },
  {
   "cell_type": "code",
   "execution_count": null,
   "metadata": {},
   "outputs": [],
   "source": [
    "filter?"
   ]
  },
  {
   "cell_type": "code",
   "execution_count": null,
   "metadata": {},
   "outputs": [],
   "source": [
    "num = [5, 7, 22, 97, 54, 62, 77, 23, 73, 61] \n",
    "final_list = list(filter(lambda x: (x%2 != 0) , num))   # filter(function or None, iterable) \n",
    "print(final_list) "
   ]
  },
  {
   "cell_type": "code",
   "execution_count": 9,
   "metadata": {},
   "outputs": [
    {
     "name": "stdout",
     "output_type": "stream",
     "text": [
      "[10, 14, 44, 194, 108, 124, 154, 46, 146, 122]\n"
     ]
    }
   ],
   "source": [
    "li = [5, 7, 22, 97, 54, 62, 77, 23, 73, 61] \n",
    "final_list = list(map(lambda x: x*2 , li)) # map(func, *iterables) --> map object. Make an iterator that computes the function using arguments from\n",
    "#each of the iterables.\n",
    "\n",
    "print(final_list) "
   ]
  },
  {
   "cell_type": "markdown",
   "metadata": {},
   "source": [
    "### Question:  use map function to normalize the list li. Each value in the list minus the average, and then divide the average.  "
   ]
  },
  {
   "cell_type": "code",
   "execution_count": 12,
   "metadata": {},
   "outputs": [
    {
     "name": "stdout",
     "output_type": "stream",
     "text": [
      "[-0.896049896049896, -0.8544698544698545, -0.5426195426195426, 1.0166320166320166, 0.12266112266112263, 0.28898128898128894, 0.6008316008316008, -0.5218295218295218, 0.5176715176715176, 0.26819126819126815]\n"
     ]
    }
   ],
   "source": [
    "average = sum(li)/len(li)\n",
    "final_list = list(map(lambda x: (x - average)/average,li))\n",
    "print(final_list)"
   ]
  },
  {
   "cell_type": "markdown",
   "metadata": {},
   "source": [
    "## Let's know more about existing Python functions and library"
   ]
  },
  {
   "cell_type": "code",
   "execution_count": null,
   "metadata": {},
   "outputs": [],
   "source": [
    "# math and statistics are two frequently used standard libraries \n",
    "import math   # You must use import to include math library\n",
    "math.sqrt(400)  # the functions in math library are accessible by math.function"
   ]
  },
  {
   "cell_type": "markdown",
   "metadata": {},
   "source": [
    "How do you see what functions are available under a module?"
   ]
  },
  {
   "cell_type": "code",
   "execution_count": null,
   "metadata": {},
   "outputs": [],
   "source": [
    "# use dir(module_name)"
   ]
  },
  {
   "cell_type": "code",
   "execution_count": null,
   "metadata": {},
   "outputs": [],
   "source": [
    "math.fabs(-10)"
   ]
  },
  {
   "cell_type": "code",
   "execution_count": null,
   "metadata": {},
   "outputs": [],
   "source": [
    "#How do we know what functions are available?\n",
    "#press<Tab> after the dot\n",
    "math."
   ]
  },
  {
   "cell_type": "code",
   "execution_count": null,
   "metadata": {},
   "outputs": [],
   "source": [
    "#How to use the functions (identifier) in the library(module)?\n",
    "# You can either add ? after function, or use help(function)\n",
    "math.sin?"
   ]
  },
  {
   "cell_type": "code",
   "execution_count": null,
   "metadata": {},
   "outputs": [],
   "source": [
    "help(math.sin)"
   ]
  },
  {
   "cell_type": "code",
   "execution_count": null,
   "metadata": {},
   "outputs": [],
   "source": [
    "# for only importing few functions\n",
    "# The advantage is to use limited memory\n",
    "from math import ceil, floor"
   ]
  },
  {
   "cell_type": "code",
   "execution_count": null,
   "metadata": {},
   "outputs": [],
   "source": [
    "ceil(10.4)"
   ]
  },
  {
   "cell_type": "code",
   "execution_count": null,
   "metadata": {},
   "outputs": [],
   "source": [
    "floor(10.9)"
   ]
  },
  {
   "cell_type": "code",
   "execution_count": null,
   "metadata": {},
   "outputs": [],
   "source": [
    "#Alternatively just import the functions NOT under the name space\n",
    "#But, sometimes, the identifier names could conflict... That becomes a problem.\n",
    "\n",
    "from math import *"
   ]
  },
  {
   "cell_type": "code",
   "execution_count": null,
   "metadata": {},
   "outputs": [],
   "source": [
    "e"
   ]
  },
  {
   "cell_type": "code",
   "execution_count": null,
   "metadata": {
    "scrolled": true
   },
   "outputs": [],
   "source": [
    "# define e by the user\n",
    "e = \"How are you?\"\n",
    "e"
   ]
  },
  {
   "cell_type": "code",
   "execution_count": null,
   "metadata": {},
   "outputs": [],
   "source": [
    "#Sometimes it’s helpful to import a module and use an abbreviation for it to simplify your code.\n",
    "# The import statement's as clause allows you to specify the name usd to \n",
    "# reference the module's identifiers\n",
    "\n",
    "import statistics as stats\n",
    "grades = [54,76,98,89,22]\n",
    "stats.mean(grades)"
   ]
  },
  {
   "cell_type": "code",
   "execution_count": null,
   "metadata": {},
   "outputs": [],
   "source": [
    "# You can use any name. But try to use some name easily remembered.\n",
    "import statistics as my_cellphone\n",
    "grades = [54,76,98,89,22]\n",
    "my_cellphone.mean(grades)"
   ]
  },
  {
   "cell_type": "markdown",
   "metadata": {},
   "source": [
    "## Measures of dispersion in data science\n",
    "\n",
    "**Population variance and standard deviation**\n",
    "- Frequently used in data science to deal with big data\n",
    "- For example, sampling of 1000 people to predict presidential election of >100,000,000 people\n",
    "- Variability should be presented together with mean (But you don't see from news.)"
   ]
  },
  {
   "cell_type": "code",
   "execution_count": null,
   "metadata": {},
   "outputs": [],
   "source": [
    "# variance measurement: each data minors the population average, and take square. Then divide the resultant by the sample size.\n",
    "# it tones down the effect of the outliers. The smaller standard deviation means loess overal dispersion\n",
    "\n",
    "samples = [1, 3, 4, 2, 6, 5, 3, 4, 5, 2]\n",
    "import statistics as stats\n",
    "stats.pvariance(samples)"
   ]
  },
  {
   "cell_type": "code",
   "execution_count": null,
   "metadata": {},
   "outputs": [],
   "source": [
    "# What is the difference between variance and standard deviation?\n",
    "# standard deviation is the square root of the variance.\n",
    "\n",
    "stats.pstdev(samples)  # calculate standard deviation \n",
    "#alternatively, import math, and use math.sqrt()"
   ]
  },
  {
   "cell_type": "code",
   "execution_count": null,
   "metadata": {},
   "outputs": [],
   "source": []
  }
 ],
 "metadata": {
  "kernelspec": {
   "display_name": "Python 3 (ipykernel)",
   "language": "python",
   "name": "python3"
  },
  "language_info": {
   "codemirror_mode": {
    "name": "ipython",
    "version": 3
   },
   "file_extension": ".py",
   "mimetype": "text/x-python",
   "name": "python",
   "nbconvert_exporter": "python",
   "pygments_lexer": "ipython3",
   "version": "3.11.5"
  }
 },
 "nbformat": 4,
 "nbformat_minor": 2
}
