{
 "cells": [
  {
   "cell_type": "code",
   "execution_count": null,
   "id": "d3bbc48e",
   "metadata": {},
   "outputs": [],
   "source": [
    "#Connor Oh\n",
    "#BME-361\n",
    "#HW1"
   ]
  },
  {
   "cell_type": "code",
   "execution_count": null,
   "id": "e3b0a7a2",
   "metadata": {},
   "outputs": [],
   "source": [
    "#Extra Credit\n",
    "def promptUser(inputList):\n",
    "    #Prompt User for a number\n",
    "    newNum = input('Input Number (If done, please type \\'done\\'): ')\n",
    "    #If input is a string that says 'done'\n",
    "    if newNum=='done':\n",
    "        sumOfNum = 0\n",
    "        #Find length of list\n",
    "        lengthOfNum = len(inputList)\n",
    "        #Calculate sum of all the values in the list\n",
    "        for num in inputList:\n",
    "            sumOfNum+=num\n",
    "        #Calculate the mean\n",
    "        mean = sumOfNum / lengthOfNum\n",
    "        sumOfDiff = 0\n",
    "        #Calculate the summation of the square of the number minus the mean\n",
    "        for num in inputList:\n",
    "            sumOfDiff += (num - mean)**2\n",
    "        #Calculate the standard deviation\n",
    "        std = sumOfDiff / lengthOfNum\n",
    "        std = std**0.5\n",
    "        #Print\n",
    "        print(\"The mean is: \" + str(mean))\n",
    "        print(\"The standard deviation is: \" + str(std))\n",
    "    #If the input is a digit\n",
    "    elif newNum.isdigit():\n",
    "        #Add it to the list\n",
    "        inputList.append(float(newNum))\n",
    "        #Recursively call back the function\n",
    "        promptUser(inputList)\n",
    "    else:\n",
    "        #Catch case for any other inputs\n",
    "        print('That is not a valid input, try again!')\n",
    "        promptUser(inputList)\n",
    "promptUser([])"
   ]
  }
 ],
 "metadata": {
  "kernelspec": {
   "display_name": "Python 3 (ipykernel)",
   "language": "python",
   "name": "python3"
  },
  "language_info": {
   "codemirror_mode": {
    "name": "ipython",
    "version": 3
   },
   "file_extension": ".py",
   "mimetype": "text/x-python",
   "name": "python",
   "nbconvert_exporter": "python",
   "pygments_lexer": "ipython3",
   "version": "3.11.5"
  }
 },
 "nbformat": 4,
 "nbformat_minor": 5
}
