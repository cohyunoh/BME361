{
 "cells": [
  {
   "cell_type": "code",
   "execution_count": null,
   "id": "3f14b525",
   "metadata": {},
   "outputs": [],
   "source": [
    "#Connor Oh\n",
    "#BME-361\n",
    "#HW1"
   ]
  },
  {
   "cell_type": "code",
   "execution_count": 1,
   "id": "637f9aea",
   "metadata": {},
   "outputs": [
    {
     "name": "stdout",
     "output_type": "stream",
     "text": [
      "Enter the number of hours worked: 35\n",
      "Enter your hourly rate: 2.75\n",
      "Pay:96.25\n"
     ]
    }
   ],
   "source": [
    "#Part One\n",
    "hours = float(input('Enter the number of hours worked: '))\n",
    "rate = float(input('Enter your hourly rate: '))\n",
    "print(\"Pay: \" + str(hours*rate))"
   ]
  },
  {
   "cell_type": "code",
   "execution_count": 2,
   "id": "4cfd50db",
   "metadata": {},
   "outputs": [
    {
     "name": "stdout",
     "output_type": "stream",
     "text": [
      "Enter the first number: 1\n",
      "Enter the second number: 2\n",
      "Enter the third number: 3\n",
      "The mean is: 2.0\n",
      "The standard deviation is: 0.816496580927726\n"
     ]
    }
   ],
   "source": [
    "#Part Two\n",
    "import numpy as np\n",
    "num1 = float(input('Enter the first number: '))\n",
    "num2 = float(input('Enter the second number: '))\n",
    "num3 = float(input('Enter the third number: '))\n",
    "listofNum = [num1,num2,num3]\n",
    "arrayofNum = np.array(listofNum)\n",
    "mean = np.mean(arrayofNum)\n",
    "std = np.std(arrayofNum)\n",
    "print(\"The mean is: \" + str(mean))\n",
    "print(\"The standard deviation is: \" + str(std))\n"
   ]
  }
 ],
 "metadata": {
  "kernelspec": {
   "display_name": "Python 3 (ipykernel)",
   "language": "python",
   "name": "python3"
  },
  "language_info": {
   "codemirror_mode": {
    "name": "ipython",
    "version": 3
   },
   "file_extension": ".py",
   "mimetype": "text/x-python",
   "name": "python",
   "nbconvert_exporter": "python",
   "pygments_lexer": "ipython3",
   "version": "3.11.5"
  }
 },
 "nbformat": 4,
 "nbformat_minor": 5
}
