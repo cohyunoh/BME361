{
 "cells": [
  {
   "cell_type": "code",
   "execution_count": null,
   "id": "d3bbc48e",
   "metadata": {},
   "outputs": [],
   "source": [
    "#Connor Oh\n",
    "#BME-361\n",
    "#HW1"
   ]
  },
  {
   "cell_type": "code",
   "execution_count": null,
   "id": "e3b0a7a2",
   "metadata": {},
   "outputs": [],
   "source": [
    "#Extra Credit\n",
    "def promptUser(inputList):\n",
    "    newNum = input('Input Number (If done, please type \\'done\\'): ')\n",
    "    if newNum=='done':\n",
    "        sumOfNum = 0\n",
    "        lengthOfNum = len(inputList)\n",
    "        for num in inputList:\n",
    "            sumOfNum+=num\n",
    "        mean = sumOfNum / lengthOfNum\n",
    "        sumOfDiff = 0\n",
    "        for num in inputList:\n",
    "            sumOfDiff += (num - mean)**2\n",
    "        std = sumOfDiff / lengthOfNum\n",
    "        std = std**0.5\n",
    "        print(\"The mean is: \" + str(mean))\n",
    "        print(\"The standard deviation is: \" + str(std))\n",
    "    elif newNum.isdigit():\n",
    "        inputList.append(float(newNum))\n",
    "        promptUser(inputList)\n",
    "    else:\n",
    "        print('That is not a valid input, try again!')\n",
    "        promptUser(inputList)\n",
    "promptUser([])"
   ]
  }
 ],
 "metadata": {
  "kernelspec": {
   "display_name": "Python 3 (ipykernel)",
   "language": "python",
   "name": "python3"
  },
  "language_info": {
   "codemirror_mode": {
    "name": "ipython",
    "version": 3
   },
   "file_extension": ".py",
   "mimetype": "text/x-python",
   "name": "python",
   "nbconvert_exporter": "python",
   "pygments_lexer": "ipython3",
   "version": "3.11.5"
  }
 },
 "nbformat": 4,
 "nbformat_minor": 5
}
