{
 "cells": [
  {
   "cell_type": "markdown",
   "metadata": {},
   "source": [
    "## Regular expression for string operation\n",
    "- note that it targets strings such as long texts, or within collections, but not collections (list, tuple, dictionary, set) directly"
   ]
  },
  {
   "cell_type": "markdown",
   "metadata": {},
   "source": [
    "**fullmatch** checks whether the entire string in its second argument matches the pattern in its first argument. We learn from here although it is less practically useful"
   ]
  },
  {
   "cell_type": "code",
   "execution_count": null,
   "metadata": {
    "scrolled": true
   },
   "outputs": [],
   "source": [
    "import re\n",
    "pattern = \"02215\"\n",
    "\"Match\" if re.fullmatch(pattern, \"02215\") else \"No match\""
   ]
  },
  {
   "cell_type": "markdown",
   "metadata": {},
   "source": [
    "Regular expressions typically contain various special symbols called metacharacters:\n",
    "\n",
    "- Regular expression metacharacters\n",
    "[] {} () \\ * + ^ $ ? . |\n",
    "\n",
    "- **\\ metacharacter** begins each predefined character class"
   ]
  },
  {
   "cell_type": "code",
   "execution_count": null,
   "metadata": {},
   "outputs": [],
   "source": [
    "# In \\d{5}, \\d is a character class representing a digit (0–9)\n",
    "# {5} repeats \\d five times to match five consecutive digits\n",
    "\n",
    "\"Valid\" if re.fullmatch('\\d{5}', \"02215\") else \"Invalid\""
   ]
  },
  {
   "cell_type": "code",
   "execution_count": null,
   "metadata": {
    "scrolled": true
   },
   "outputs": [],
   "source": [
    "\"Valid\" if re.fullmatch('\\d{5}', \"9877\") else \"Invalid\""
   ]
  },
  {
   "cell_type": "markdown",
   "metadata": {},
   "source": [
    "? quantifier matches **zero or one** occurrences of a subexpression\n",
    "-  against * that means >=0 occurrence; + means >=1 occurrence"
   ]
  },
  {
   "cell_type": "code",
   "execution_count": null,
   "metadata": {},
   "outputs": [],
   "source": [
    "'Match' if re.fullmatch('labell?ed', 'labeled') else 'No match'\n",
    "#l? indicates that there can be zero or one more l characters before the remaining literal ed characters\n",
    "# try *, +, *?, +?, ."
   ]
  },
  {
   "cell_type": "markdown",
   "metadata": {},
   "source": [
    "match at least n occurrences of a subexpression with the {n,} quantifier"
   ]
  },
  {
   "cell_type": "code",
   "execution_count": null,
   "metadata": {
    "scrolled": true
   },
   "outputs": [],
   "source": [
    "'Match' if re.fullmatch('\\d{3,}', '1245548') else 'No match'"
   ]
  },
  {
   "cell_type": "code",
   "execution_count": null,
   "metadata": {},
   "outputs": [],
   "source": [
    "'Match' if re.fullmatch('\\d{3,6}', '1245548') else 'No match'"
   ]
  },
  {
   "cell_type": "markdown",
   "metadata": {},
   "source": [
    "To match any metacharacter as its literal value, precede it by a backslash (\\\\) \\\n",
    "    **\\d     Any digit** \\\n",
    "    \\D     Any character that is not a digit \\\n",
    "    \\s     Any whitespace \\\n",
    "    \\S     Any character not whitespace \\\n",
    "    **\\w     Any alphanumeric character** \\\n",
    "    \\W     Any character not alphanumeric \\\n",
    "    \\b     matches the empty string at the beginning or end of a word. \\\n",
    "    \\B     matches the empty string not at the beginning or end of a word\n",
    "\n",
    "**By default, those are single character to match.** \n",
    "   "
   ]
  },
  {
   "cell_type": "markdown",
   "metadata": {},
   "source": [
    " **for any given pattern, there are probably multiple ways to describe it using a regular expression**"
   ]
  },
  {
   "cell_type": "markdown",
   "metadata": {},
   "source": [
    "**Custom character classes** - https://docs.python.org/3/library/re.html\n",
    "- Square brackets, [], define a custom character class that matches a **single** character\n",
    "- [A-Z] matches an uppercase letter\n",
    "- [a-z] matches a lowercase letter\n",
    "- [a-zA-Z] matches any lowercase or uppercase letter"
   ]
  },
  {
   "cell_type": "markdown",
   "metadata": {},
   "source": [
    "**Comparison:**\n",
    "- re.search: will stop after the first match. result.start(), or .end(), to return location,.group() or index[0] for content\n",
    "- re.findall: returns all non-overlapping matches of pattern in string as a list of strings\n",
    "- re.finditer:  returns callable object. include locations of matches."
   ]
  },
  {
   "cell_type": "code",
   "execution_count": null,
   "metadata": {},
   "outputs": [],
   "source": [
    "EGFR_1 = \" 1 agacgtccgg gcagcccccg gcgcagcgcg gccgcagcag cctccgcccc ccgcacggtg\\\n",
    "       61 tgagcgcccg acgcggccga ggcggccgga gtcccgagct agccccggcg gccgccgccg\\\n",
    "      121 cccagaccgg acgacaggcc acctcgtcgg cgtccgcccg agtccccgcc tcgccgccaa\\\n",
    "      181 cgccacaacc accgcgcacg gccccctgac tccgtccagt attgatcggg agagccggag\\\n",
    "      241 cgagctcttc ggggagcagc gatgcgaccc tccgggacgg ccggggcagc gctcctggcg\\\n",
    "      301 ctgctggctg cgctctgccc ggcgagtcgg gctctggagg aaaagaaagg taagggcgtg\\\n",
    "      361 tctcgccggc tcccgcgccg cccccggatc gcgccccgga ccccgcagcc cgcccaaccg\\\n",
    "      421 cgcaccggcg caccggctcg gcgcccgcgc ccccgcccgt cctttcctgt ttccttgaga\\\n",
    "      481 tcagctgcgc cgccgaccgg gaccgcggga ggaacgggac gtttcgttct tcggccggga\\\n",
    "      541 gagtctgggg cgggcggagg aggagacgcg tgggacaccg ggctgcaggc caggcgggga\\\n",
    "      601 acggccgccg ggacctccgg cgccccgaac cgctcccaac tttcttccct cactttcccc\\\n",
    "      661 gcccagctgc gcaggatcgg cgtcagtggg cgaaagccgg gtgctggtgg gcgcctgggg\\\n",
    "      721 ccggggtccc gcacgtgcgc cccgcgctgt cttcccaggg cgcgacgggg tcctggcgcg\\\n",
    "      781 cacccgaggg gcgggcgctg cccacccgcc gagactgcac tgtttaggga agctgaggaa\\\n",
    "      841 ggaacccaaa aatacagcct cccctcggac cccgcgggac aggcggcttt ctgagaggac\\\n",
    "      901 ctccccgcct ccgccctccg cgcaggtctc aaactgaagc cggcgcccgc cagcctggcc\\\n",
    "      961 ccggcccctc tccaggtccc cgcgatcctc gttccccagt gtggagtcgc agcctcgacc\\\n",
    "     1021 tgggagctgg gagaactcgt ctaccaccac ctgcggctcc cggggagggg tggtgctggc\\\n",
    "     1081 ggcggttagt ttcctcgttg gcaaaaggca ggtggggtcc gacccgcccc ttgggcgcag\\\n",
    "     1141 accccggccg ctcgcctcgc ccggtgcgcc ctcgtcttgc ctatccaaga gtgcccccca\\\n",
    "     1201 cctcccgggg accccagctc cctcctgggc gcccgcgccg aaagccccag gctctccttc\\\n",
    "     1261 gatggccgcc tcgcggagac gtccgggtct gctccacctg cagcccttcg gtcgcgcctg\\\n",
    "     1321 ggcttcgcgg tggagcggga cgcggctgtc cggccactgc agggggggat cgcgggactc\\\n",
    "     1381 ttgagcggaa gccccggaag cagagctcat cctggccaac accatggtgt ttcaaaatgg\\\n",
    "     1441 ggctcacagc aaacttctcc tcaaaacccg gagactttct ttcttggatg tctctttttg\\\n",
    "     1501 ctgtttgaag aatttgagcc aaccaaaata ttaaacctgt cttacacaca cacacacaca\\\n",
    "     1561 cacacacaca cacacaccgg attgctgtcc ctggttcaag tgtgccaagt gtgcagacag\\\n",
    "     1621 aacatgagcg agtctggctt cgtgactacc gaccataaac ccacttgaca ggggaaacat\"\n",
    "EGFR_2 = [sequence for sequence in EGFR_1 if sequence !=\" \" and sequence.isdigit() == False]\n",
    "new_seq = \"\"; \n",
    "for item in range(len(EGFR_2)):\n",
    "    new_seq+= EGFR_2[item]\n",
    "new_seq = new_seq.upper()\n",
    "new_seq"
   ]
  },
  {
   "cell_type": "code",
   "execution_count": null,
   "metadata": {},
   "outputs": [],
   "source": [
    "# use the coronv.seq as the example for ALTERNATION\n",
    "# A|T means either A or T\n",
    "import re\n",
    "if re.search(\"GG[A|T]CC\",new_seq):\n",
    "    print(\"restriction site found!\")"
   ]
  },
  {
   "cell_type": "code",
   "execution_count": null,
   "metadata": {
    "scrolled": true
   },
   "outputs": [],
   "source": [
    "if re.search(\"GG[ATGC]CC\",str(new_seq)):   # same result: any letter of A, T , G , C\n",
    "    print(\"restriction site found!\")"
   ]
  },
  {
   "cell_type": "markdown",
   "metadata": {},
   "source": [
    "#### Question: match any sequence of DNA starting with ATG and terminated by a stop codon (TAG, TAA, or TGA)"
   ]
  },
  {
   "cell_type": "code",
   "execution_count": null,
   "metadata": {},
   "outputs": [],
   "source": [
    "\n",
    "result_TAG = re.findall(\"ATG.+?TAG\", new_seq)  \n",
    "result_TAA = re.findall(\"ATG.+?TAA\", new_seq)  \n",
    "result_TGA = re.findall(\"ATG.+?TGA\", new_seq)  \n",
    "\n",
    "result = result_TAG, result_TAA, result_TGA\n",
    "result\n",
    "\n",
    "# What is wrong?"
   ]
  },
  {
   "cell_type": "code",
   "execution_count": null,
   "metadata": {},
   "outputs": [],
   "source": [
    "# What is wrong?\n",
    "# match any sequence of DNA starting with ATG and terminated by a stop codon (TAG, TAA, or TGA)\n",
    "#As the target string is scanned, REs separated by '|' are tried from left to right. If left is satisfied, then done\n",
    "result = re.findall(\"ATG.+?T[A|G][G|A]\", new_seq)  \n",
    "result    "
   ]
  },
  {
   "cell_type": "code",
   "execution_count": null,
   "metadata": {},
   "outputs": [],
   "source": [
    "result = re.findall(\"(ATG[A-Z]{1,})\", new_seq) \n",
    "# Adding groups to a pattern lets you isolate parts of the matching text, expanding those capabilities to create a parser. Groups are defined by enclosing patterns in parentheses (( and ))\n",
    "result    "
   ]
  },
  {
   "cell_type": "code",
   "execution_count": null,
   "metadata": {
    "scrolled": false
   },
   "outputs": [],
   "source": [
    "# Wrong?\n",
    "# match any sequence of DNA starting with ATG and terminated by a stop codon (TAG, TAA, or TGA)\n",
    "result = re.findall(\"ATG[A-Z]{1,}T[AA|AG|GA]\",new_seq) \n",
    "result      # with limited span, otherwise too aggressive. but try to maximize it"
   ]
  },
  {
   "cell_type": "code",
   "execution_count": null,
   "metadata": {},
   "outputs": [],
   "source": [
    "# Wrong?\n",
    "# match any sequence of DNA starting with ATG and terminated by a stop codon (TAG, TAA, or TGA)\n",
    "result = re.findall(\"ATG[A-Z]T[AA|AG|GA]\",new_seq) \n",
    "result      # with limited span, otherwise too aggressive. but try to maximize it"
   ]
  },
  {
   "cell_type": "code",
   "execution_count": null,
   "metadata": {},
   "outputs": [],
   "source": [
    "result = re.findall(\"ATG[A-Z]{1,10000}[TAA|TAG|TGA]\",new_seq) \n",
    "result      # with limited span, otherwise too aggressive  \n",
    "# copy ATG.. to each |"
   ]
  },
  {
   "cell_type": "code",
   "execution_count": null,
   "metadata": {},
   "outputs": [],
   "source": [
    " # match any sequence of DNA starting with ATG and terminated by a stop codon (TAG, TAA, or TGA). Only show the seq before TAG\n",
    "# (?=...)Matches if ... matches next, but doesn’t consume any of the string. This is called a lookahead assertion.\n",
    "result = re.findall(\"ATG.+?(?=TAG)\", new_seq) \n",
    "result   "
   ]
  },
  {
   "cell_type": "code",
   "execution_count": null,
   "metadata": {},
   "outputs": [],
   "source": [
    " # match any sequence of DNA starting with ATG and terminated by a stop codon (TAG, TAA, or TGA)\n",
    "result = re.findall(\"ATG.+?(?=TAG|TAA|TGA)\", new_seq) \n",
    "result   # see the cutoff?"
   ]
  },
  {
   "cell_type": "code",
   "execution_count": null,
   "metadata": {},
   "outputs": [],
   "source": [
    " # match any sequence of DNA starting with ATG and terminated by a stop codon (TAG, TAA, or TGA)\n",
    "result = re.findall(\"ATG.+?(?=TAG|TAA|TGA)\\w\\w\\w\", new_seq) \n",
    "result   "
   ]
  },
  {
   "cell_type": "code",
   "execution_count": null,
   "metadata": {},
   "outputs": [],
   "source": [
    "result = re.finditer(\"ATG.+?(?=TAG|TAA|TGA)\\w\\w\\w\", new_seq)  \n",
    "result_1 = [item.group() for item in result]   # item.start() or .end(). while .group() produce the sequence result.\n",
    "result_1  "
   ]
  },
  {
   "cell_type": "markdown",
   "metadata": {},
   "source": [
    "**Useful functions**"
   ]
  },
  {
   "cell_type": "markdown",
   "metadata": {},
   "source": [
    "search: looks in a string for the **first occurence** of a substring that matches a regular expression and returns a match object that contains the matching substring"
   ]
  },
  {
   "cell_type": "code",
   "execution_count": null,
   "metadata": {},
   "outputs": [],
   "source": [
    "# use ^ to search from the beginning of a string\n",
    "result = re.search('fun$', 'Python is fun')\n",
    "result.group() if result else 'not found'"
   ]
  },
  {
   "cell_type": "code",
   "execution_count": null,
   "metadata": {},
   "outputs": [],
   "source": [
    "result = re.search('is$', 'Python is fun')\n",
    "result.group() if result else 'not found'"
   ]
  },
  {
   "cell_type": "markdown",
   "metadata": {},
   "source": [
    "### **findall**: find every matching substring in a string"
   ]
  },
  {
   "cell_type": "code",
   "execution_count": null,
   "metadata": {},
   "outputs": [],
   "source": [
    "contact = 'Wally White, Home: 555-555-1234, Work: 555-555-4321'\n",
    "re.findall('\\d{3}-\\d{3}-\\d{4}', contact)   #or add \\b to the front to indicate starting with empty space"
   ]
  },
  {
   "cell_type": "markdown",
   "metadata": {},
   "source": [
    "**Capturing substrings in a Match**\n",
    "- Use parentheses metacharacters ( and ) to capture substrings in a match"
   ]
  },
  {
   "cell_type": "code",
   "execution_count": null,
   "metadata": {},
   "outputs": [],
   "source": [
    " text = 'Pieter-Jan Kwant | Chief of Health Product Department | email: kwantP@ge.com | Office +01 (525)374-8546'"
   ]
  },
  {
   "cell_type": "code",
   "execution_count": null,
   "metadata": {},
   "outputs": [],
   "source": [
    "pattern = 'email: (\\w+@\\w+\\.\\w{2,})'\n",
    "# \\w+ means more than one alphanumeric character. \\. means normal dot; otherwise it becomes any character.\n",
    "# last \\w{3} means exactly 3 alphanumeric characters.\n",
    "result = re.findall(pattern, text)\n",
    "result"
   ]
  },
  {
   "cell_type": "code",
   "execution_count": null,
   "metadata": {
    "scrolled": false
   },
   "outputs": [],
   "source": [
    "email_text = '\"From: jun.wang.5\" <jun.wang.5@stonybrook.edu>; \\\n",
    "Date: Fri, Nov 29, 2019 08:57 AM \\\n",
    "To: \"Sam Goody\"<**yl@foxmail.com>; \\\n",
    "Subject: Re: Application for PhD program'\n",
    "\n",
    "y = re.findall(\"@([^ ]*)\", email_text)\n",
    "y"
   ]
  },
  {
   "cell_type": "code",
   "execution_count": null,
   "metadata": {},
   "outputs": [],
   "source": [
    "#email_text = '\"From: jun.wang.5\" <jun.wang.5@stonybrook.edu>;'\n",
    "y = re.findall(\"(\\w+@[^ ]*)\", email_text)\n",
    "y"
   ]
  },
  {
   "cell_type": "markdown",
   "metadata": {},
   "source": [
    "**Q: how to extract the whole email jun.wang.5@stonybrook.edu ?**"
   ]
  },
  {
   "cell_type": "markdown",
   "metadata": {},
   "source": [
    "Answer:"
   ]
  },
  {
   "cell_type": "code",
   "execution_count": null,
   "metadata": {},
   "outputs": [],
   "source": [
    "import re\n",
    "y = re.findall(\"<(.*?)>\", email_text)\n",
    "y"
   ]
  },
  {
   "cell_type": "code",
   "execution_count": null,
   "metadata": {},
   "outputs": [],
   "source": [
    "y = re.findall(\"(\\w{3}\\.\\w{4}\\.\\w+@[^ ]*)\", email_text)\n",
    "y"
   ]
  },
  {
   "cell_type": "code",
   "execution_count": null,
   "metadata": {},
   "outputs": [],
   "source": []
  },
  {
   "cell_type": "markdown",
   "metadata": {},
   "source": [
    "### Example: analysis of characters through ranking the occurrence frequency of names\n",
    "\n",
    "- using  .split() didnot remove punctuation marks\n",
    "- New strategy: replace non-alphanumeric characters with empty space"
   ]
  },
  {
   "cell_type": "code",
   "execution_count": null,
   "metadata": {},
   "outputs": [],
   "source": [
    "# Let's read a novel Gone with the Wind. You can find the free book here: http://gutenberg.net.au/ebooks02/0200161.txt\n",
    "# download and save the file under the current working path of notebook\n",
    "with open('GoneWithTheWind.txt', mode='r', encoding='utf-8') as novel:\n",
    "    data = novel.readlines()\n",
    "data"
   ]
  },
  {
   "cell_type": "code",
   "execution_count": null,
   "metadata": {},
   "outputs": [],
   "source": [
    "type(data)"
   ]
  },
  {
   "cell_type": "code",
   "execution_count": null,
   "metadata": {},
   "outputs": [],
   "source": [
    "# we need to flatten the whole list into one string before regex searching\n",
    "\n",
    "one_string = ''\n",
    "for item in data:\n",
    "    one_string += item"
   ]
  },
  {
   "cell_type": "code",
   "execution_count": null,
   "metadata": {},
   "outputs": [],
   "source": [
    "one_string"
   ]
  },
  {
   "cell_type": "markdown",
   "metadata": {},
   "source": [
    "### Q: How to extract only the words?"
   ]
  },
  {
   "cell_type": "code",
   "execution_count": null,
   "metadata": {},
   "outputs": [],
   "source": [
    "# Option 1: to remove the non-alphanumeric characters first, and leave only words separated by space. Then use split method of string\n"
   ]
  },
  {
   "cell_type": "code",
   "execution_count": null,
   "metadata": {},
   "outputs": [],
   "source": [
    "\n",
    "for word in processed:    \n",
    "    if word in word_counts:\n",
    "        word_counts[word] += 1  # update existing key-value pair\n",
    "    else:\n",
    "        word_counts[word] = 1  # insert new key-value pair\n",
    "        \n",
    "print(f'{\"WORD\": <12} COUNT') \n",
    "      \n",
    "for word, count in sorted(word_counts.items()):\n",
    "      print(f'{word: <12} {count}')\n",
    "      \n"
   ]
  },
  {
   "cell_type": "code",
   "execution_count": null,
   "metadata": {},
   "outputs": [],
   "source": [
    "word_counts.items()"
   ]
  },
  {
   "cell_type": "code",
   "execution_count": null,
   "metadata": {},
   "outputs": [],
   "source": [
    "\n",
    "print('\\nNumber of unique words:', len(word_counts))   \n",
    "      \n",
    "sorted_by_values = sorted(word_counts.items(), key=lambda x:x[1], reverse=True)\n",
    "# sorted_by_values \n",
    "\n",
    "print(f'{\"WORD\": <12} COUNT') \n",
    "for key, value in sorted_by_values:\n",
    "    print(f'{key: <12} {value}')    "
   ]
  },
  {
   "cell_type": "code",
   "execution_count": null,
   "metadata": {},
   "outputs": [],
   "source": [
    "re.finditer?"
   ]
  },
  {
   "cell_type": "code",
   "execution_count": null,
   "metadata": {},
   "outputs": [],
   "source": [
    "# to find the location each time Scarlett is mentioned.\n",
    "iterable= re.finditer(\"Scarlett\", text)\n",
    "Scarlett_indices = [m.start(0) for m in iterable]"
   ]
  },
  {
   "cell_type": "code",
   "execution_count": null,
   "metadata": {},
   "outputs": [],
   "source": [
    "Scarlett_indices"
   ]
  },
  {
   "cell_type": "code",
   "execution_count": null,
   "metadata": {},
   "outputs": [],
   "source": [
    "iterable= re.finditer(\"Melanie\", text)\n",
    "Melanie_indices = [m.start(0) for m in iterable]"
   ]
  },
  {
   "cell_type": "code",
   "execution_count": null,
   "metadata": {},
   "outputs": [],
   "source": [
    "len(Melanie_indices)"
   ]
  },
  {
   "cell_type": "code",
   "execution_count": null,
   "metadata": {},
   "outputs": [],
   "source": [
    "iterable= re.finditer(\"Ashley\", text)\n",
    "Ashley_indices = [m.start(0) for m in iterable]\n",
    "len(Ashley_indices)"
   ]
  },
  {
   "cell_type": "code",
   "execution_count": null,
   "metadata": {},
   "outputs": [],
   "source": [
    "iterable= re.finditer(\"Rhett\", text)\n",
    "Rhett_indices = [m.start(0) for m in iterable]\n",
    "len(Rhett_indices)"
   ]
  },
  {
   "cell_type": "code",
   "execution_count": null,
   "metadata": {},
   "outputs": [],
   "source": [
    "iterable= re.finditer(\"Suellen\", text)\n",
    "Suellen_indices = [m.start(0) for m in iterable]\n",
    "len(Suellen_indices)\n"
   ]
  },
  {
   "cell_type": "code",
   "execution_count": null,
   "metadata": {},
   "outputs": [],
   "source": [
    "import matplotlib.pyplot as plt\n",
    "%matplotlib inline\n",
    "\n",
    "plt.figure(figsize=[16,5])\n",
    "\n",
    "plt.hist(Scarlett_indices, 1000, facecolor='blue', alpha=0.5)\n",
    "\n",
    "#plt.hist(Rhett_indices, 1000, facecolor='red', alpha=0.5)\n",
    "\n",
    "#plt.hist(Ashley_indices, 1000, facecolor='yellow', alpha=0.5)\n",
    "\n",
    "#plt.hist(Melanie_indices, 1000, facecolor='green', alpha=0.5)\n",
    "\n",
    "plt.hist(Suellen_indices, 1000, facecolor='purple', alpha=0.5)\n",
    "\n",
    "plt.show()\n",
    "\n"
   ]
  },
  {
   "cell_type": "code",
   "execution_count": null,
   "metadata": {
    "scrolled": true
   },
   "outputs": [],
   "source": [
    "# cumulative curve\n",
    "plt.figure(figsize=[10,5])\n",
    "\n",
    "plt.hist(Scarlett_indices, 1000, facecolor='blue', alpha=0.5, density=True, histtype='step',\n",
    "                           cumulative=True, label='Empirical')\n",
    "\n",
    "plt.hist(Rhett_indices, 1000, facecolor='red', alpha=0.5, density=True, histtype='step',\n",
    "                           cumulative=True, label='Empirical')\n",
    "\n",
    "plt.hist(Ashley_indices, 1000, facecolor='yellow', alpha=0.5, density=True, histtype='step',\n",
    "                           cumulative=True, label='Empirical')\n",
    "\n",
    "plt.hist(Melanie_indices, 1000, facecolor='green', alpha=0.5, density=True, histtype='step',\n",
    "                           cumulative=True, label='Empirical')\n",
    "\n",
    "plt.hist(Suellen_indices, 1000, facecolor='purple', alpha=0.5, density=True, histtype='step',\n",
    "                           cumulative=True, label='Empirical')\n",
    "\n",
    "\n",
    "\n",
    "plt.show()\n"
   ]
  },
  {
   "cell_type": "code",
   "execution_count": null,
   "metadata": {},
   "outputs": [],
   "source": []
  },
  {
   "cell_type": "markdown",
   "metadata": {},
   "source": [
    "## Dictionaries\n",
    "\n"
   ]
  },
  {
   "cell_type": "markdown",
   "metadata": {},
   "source": [
    "**Basic dictionary operation**"
   ]
  },
  {
   "cell_type": "code",
   "execution_count": null,
   "metadata": {},
   "outputs": [],
   "source": [
    "# Dictionaries are unordered collections.\n",
    "# Do not write code that depends on the order of the key–value pairs.\n",
    "# The keys are unique. Values of course do have to be unique\n",
    "\n",
    "roman_numerals = {'I': 1, 'II': 2, 'III': 3, 'V': 5, 'X': 100}"
   ]
  },
  {
   "cell_type": "code",
   "execution_count": null,
   "metadata": {
    "scrolled": false
   },
   "outputs": [],
   "source": [
    "roman_numerals.  # tab, to know what methods are available for dictionary"
   ]
  },
  {
   "cell_type": "code",
   "execution_count": null,
   "metadata": {},
   "outputs": [],
   "source": [
    "# accessing the value by referring to the key\n",
    "roman_numerals['II']"
   ]
  },
  {
   "cell_type": "code",
   "execution_count": null,
   "metadata": {},
   "outputs": [],
   "source": [
    "# update the value of a key\n",
    "roman_numerals[\"X\"] = 10"
   ]
  },
  {
   "cell_type": "code",
   "execution_count": null,
   "metadata": {},
   "outputs": [],
   "source": [
    "# or use method to update\n",
    "roman_numerals.update({\"II\": 55})\n",
    "# roman_numerals.update(II = 55)   # it also permit receiving tuples. Note II is not quoted\n",
    "roman_numerals"
   ]
  },
  {
   "cell_type": "code",
   "execution_count": null,
   "metadata": {},
   "outputs": [],
   "source": [
    "# Adding a new key-value pair\n",
    "roman_numerals[\"L\"] = 50\n",
    "roman_numerals"
   ]
  },
  {
   "cell_type": "code",
   "execution_count": null,
   "metadata": {},
   "outputs": [],
   "source": [
    "# Delete a key-value pair\n",
    "del roman_numerals['III']\n",
    "roman_numerals"
   ]
  },
  {
   "cell_type": "code",
   "execution_count": null,
   "metadata": {},
   "outputs": [],
   "source": [
    "# Or, use pop to remove one pair\n",
    "roman_numerals.pop(\"I\")"
   ]
  },
  {
   "cell_type": "code",
   "execution_count": null,
   "metadata": {},
   "outputs": [],
   "source": [
    "# Method get returns its argument' corresponding value or None if the key is not found\n",
    "# Return the second argument if the key is NOT found\n",
    "\n",
    "roman_numerals.get(\"II\")    # return the value of that key"
   ]
  },
  {
   "cell_type": "code",
   "execution_count": null,
   "metadata": {},
   "outputs": [],
   "source": [
    "roman_numerals.get(\"III\")"
   ]
  },
  {
   "cell_type": "code",
   "execution_count": null,
   "metadata": {},
   "outputs": [],
   "source": [
    "#Either way, you can use in to test if a key is there. Not value!\n",
    "# This is different from list which uses value in name\n",
    "\"III\" in roman_numerals"
   ]
  },
  {
   "cell_type": "markdown",
   "metadata": {},
   "source": [
    "**Methods associated with dictionary**"
   ]
  },
  {
   "cell_type": "code",
   "execution_count": null,
   "metadata": {},
   "outputs": [],
   "source": [
    "# .key gives all the keys\n",
    "roman_numerals.keys()"
   ]
  },
  {
   "cell_type": "code",
   "execution_count": null,
   "metadata": {},
   "outputs": [],
   "source": [
    "# .values gives all the values\n",
    "roman_numerals.values()"
   ]
  },
  {
   "cell_type": "code",
   "execution_count": null,
   "metadata": {},
   "outputs": [],
   "source": [
    "# .items return both key and values as tuples\n",
    "roman_numerals.items()"
   ]
  },
  {
   "cell_type": "code",
   "execution_count": null,
   "metadata": {},
   "outputs": [],
   "source": [
    "#Iteration of dictionary\n",
    "#Dictionary method items returns each key–value pair as a tuple\n",
    "\n",
    "for keys, values in roman_numerals.items():\n",
    "    print(f\"{keys}: {values}\")"
   ]
  },
  {
   "cell_type": "code",
   "execution_count": null,
   "metadata": {},
   "outputs": [],
   "source": [
    "# Dictionary itself does not need to appear like being sorted. sorting not helpful\n",
    "\n",
    "# the keys can be sorted\n",
    "sorted(roman_numerals.keys())   \n",
    "# But it returns a list without values\n"
   ]
  },
  {
   "cell_type": "markdown",
   "metadata": {},
   "source": [
    "**Dictionary comprehension:** A dictionary comprehension also can map a dictionary’s values to new values. \\\n",
    "The expression to the left of the **for** clause specifies a **key–value pair of the form key: value**."
   ]
  },
  {
   "cell_type": "code",
   "execution_count": null,
   "metadata": {},
   "outputs": [],
   "source": [
    "grades = {'Sue': [98, 87, 94], 'Bob': [84, 95, 91]}\n",
    "\n",
    "grades2 = {key: sum(value)/len(value) for key, value in grades.items()}"
   ]
  },
  {
   "cell_type": "code",
   "execution_count": null,
   "metadata": {},
   "outputs": [],
   "source": [
    "grades2"
   ]
  },
  {
   "cell_type": "code",
   "execution_count": null,
   "metadata": {},
   "outputs": [],
   "source": [
    "# Alternatively use lamda function\n",
    "\n",
    "grades2 = dict(map(lambda x: (x[0], sum(x[1])/len(x[1])), grades.items()))"
   ]
  },
  {
   "cell_type": "code",
   "execution_count": null,
   "metadata": {},
   "outputs": [],
   "source": [
    "grades2"
   ]
  },
  {
   "cell_type": "code",
   "execution_count": null,
   "metadata": {},
   "outputs": [],
   "source": []
  },
  {
   "cell_type": "markdown",
   "metadata": {},
   "source": [
    "## Sets\n",
    "- mutable"
   ]
  },
  {
   "cell_type": "code",
   "execution_count": null,
   "metadata": {},
   "outputs": [],
   "source": [
    "# create a set\n",
    "colors = {'red', 'orange', 'yellow', 'green', 'red', 'blue'}\n",
    "colors"
   ]
  },
  {
   "cell_type": "code",
   "execution_count": null,
   "metadata": {},
   "outputs": [],
   "source": [
    "# initiate a set by a = {} is tricky\n",
    "\n",
    "a = {}  # This actually creates a dictionary\n",
    "b = set(a)\n",
    "type(b)"
   ]
  },
  {
   "cell_type": "code",
   "execution_count": null,
   "metadata": {},
   "outputs": [],
   "source": [
    "colors."
   ]
  },
  {
   "cell_type": "code",
   "execution_count": null,
   "metadata": {},
   "outputs": [],
   "source": [
    "'red' in colors"
   ]
  },
  {
   "cell_type": "code",
   "execution_count": null,
   "metadata": {},
   "outputs": [],
   "source": [
    "# we often use list, set, tuple etc for conversion\n",
    "numbers = list(range(10)) + list(range(5))\n",
    "numbers"
   ]
  },
  {
   "cell_type": "code",
   "execution_count": null,
   "metadata": {},
   "outputs": [],
   "source": [
    "numbers_2 = set(numbers)\n",
    "numbers_2    # see the repetitive items are gone"
   ]
  },
  {
   "cell_type": "code",
   "execution_count": null,
   "metadata": {},
   "outputs": [],
   "source": [
    "# union of two sets\n",
    "{1, 3, 5} | {1, 2, 3, 4, 5, 6}\n",
    "\n",
    "# or {1, 3, 5}.union({1, 2, 3, 4, 5, 6}) # note set, list,and tuple are acceptable in union()"
   ]
  },
  {
   "cell_type": "code",
   "execution_count": null,
   "metadata": {},
   "outputs": [],
   "source": [
    "# Intersection: extract items in common\n",
    "{1, 3, 5} & {1, 2, 3, 4, 5, 6}\n",
    "# or {1, 3, 5}.intersection({1, 2, 3, 4, 5, 6})"
   ]
  },
  {
   "cell_type": "code",
   "execution_count": null,
   "metadata": {},
   "outputs": [],
   "source": [
    "# Difference: find the difference between two sets\n",
    "\n",
    "{1, 2, 3, 4, 5, 6} - {1, 3, 5} \n",
    "# or {1, 3, 5}.difference({1, 2, 3, 4, 5, 6})\n",
    "\n",
    "# test if list has such operation\n"
   ]
  },
  {
   "cell_type": "code",
   "execution_count": null,
   "metadata": {},
   "outputs": [],
   "source": [
    "{1, 2, 3, 4, 5, 6}.difference({1, 3, 5})"
   ]
  },
  {
   "cell_type": "code",
   "execution_count": null,
   "metadata": {},
   "outputs": [],
   "source": [
    "# Add elements to an existing set\n",
    "numbers = {1, 2, 3, 4, 5, 6}\n",
    "numbers.add(23)\n",
    "numbers"
   ]
  },
  {
   "cell_type": "code",
   "execution_count": null,
   "metadata": {},
   "outputs": [],
   "source": [
    "# remove elements\n",
    "numbers.remove(4)\n",
    "numbers"
   ]
  },
  {
   "cell_type": "code",
   "execution_count": null,
   "metadata": {},
   "outputs": [],
   "source": [
    "# Set comprehension\n",
    "numbers = [1, 2, 2, 3, 4, 5, 6, 6, 7, 8, 9, 10, 10]\n",
    "evens = {item for item in numbers if item % 2 == 0}\n",
    "evens"
   ]
  },
  {
   "cell_type": "code",
   "execution_count": null,
   "metadata": {},
   "outputs": [],
   "source": []
  },
  {
   "cell_type": "code",
   "execution_count": null,
   "metadata": {},
   "outputs": [],
   "source": []
  }
 ],
 "metadata": {
  "kernelspec": {
   "display_name": "Python 3 (ipykernel)",
   "language": "python",
   "name": "python3"
  },
  "language_info": {
   "codemirror_mode": {
    "name": "ipython",
    "version": 3
   },
   "file_extension": ".py",
   "mimetype": "text/x-python",
   "name": "python",
   "nbconvert_exporter": "python",
   "pygments_lexer": "ipython3",
   "version": "3.10.9"
  }
 },
 "nbformat": 4,
 "nbformat_minor": 4
}
