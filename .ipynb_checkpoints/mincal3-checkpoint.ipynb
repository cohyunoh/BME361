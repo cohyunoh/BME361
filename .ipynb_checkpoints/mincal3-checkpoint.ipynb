{
 "cells": [
  {
   "cell_type": "code",
   "execution_count": null,
   "id": "3190c04e",
   "metadata": {},
   "outputs": [],
   "source": [
    "number1 = int(input('Enter first integer: '))\n",
    "number2 = int(input('Enter second integer: '))\n",
    "number3 = int(input('Enter third integer: '))\n",
    "\n",
    "minimum = number1\n",
    "\n",
    "if number2 < minimum:\n",
    "    minimum = number2\n",
    "\n",
    "if number3 < minimum:\n",
    "    minimum = number3\n",
    "\n",
    "print('Minimum value is', minimum)"
   ]
  }
 ],
 "metadata": {
  "kernelspec": {
   "display_name": "Python 3 (ipykernel)",
   "language": "python",
   "name": "python3"
  },
  "language_info": {
   "codemirror_mode": {
    "name": "ipython",
    "version": 3
   },
   "file_extension": ".py",
   "mimetype": "text/x-python",
   "name": "python",
   "nbconvert_exporter": "python",
   "pygments_lexer": "ipython3",
   "version": "3.11.5"
  }
 },
 "nbformat": 4,
 "nbformat_minor": 5
}
