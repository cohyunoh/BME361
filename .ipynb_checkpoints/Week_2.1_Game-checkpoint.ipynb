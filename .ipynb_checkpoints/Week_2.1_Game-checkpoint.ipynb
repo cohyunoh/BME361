{
 "cells": [
  {
   "cell_type": "code",
   "execution_count": null,
   "metadata": {
    "scrolled": true
   },
   "outputs": [],
   "source": [
    "#Pong, classic arcade game.\n",
    "# turtle package allows you to shown screen and move on the screen\n",
    "# If game over, go to \"kernel\" and click 'restart'\n"
   ]
  },
  {
   "cell_type": "code",
   "execution_count": null,
   "metadata": {
    "scrolled": false
   },
   "outputs": [],
   "source": [
    "pip install freegames"
   ]
  },
  {
   "cell_type": "code",
   "execution_count": null,
   "metadata": {
    "code_folding": [
     5,
     13,
     17,
     30
    ],
    "scrolled": true
   },
   "outputs": [],
   "source": [
    "\n",
    "from random import choice, random\n",
    "from turtle import *\n",
    "from freegames import vector\n",
    "\n",
    "def value():\n",
    "    \"Randomly generate value between (-5, -3) or (3, 5).\"\n",
    "    return (3 + random() * 2) * choice([1, -1])\n",
    "\n",
    "ball = vector(0, 0)\n",
    "aim = vector(value(), value())\n",
    "state = {1: 0, 2: 0}\n",
    "\n",
    "def move(player, change):\n",
    "    \"Move player position by change.\"\n",
    "    state[player] += change\n",
    "\n",
    "def rectangle(x, y, width, height):\n",
    "    \"Draw rectangle at (x, y) with given width and height.\"\n",
    "    up()\n",
    "    goto(x, y)\n",
    "    down()\n",
    "    begin_fill()\n",
    "    for count in range(2):\n",
    "        forward(width)\n",
    "        left(90)\n",
    "        forward(height)\n",
    "        left(90)\n",
    "    end_fill()\n",
    "\n",
    "def draw():\n",
    "    \"Draw game and move pong ball.\"\n",
    "    clear()\n",
    "    rectangle(-200, state[1], 10, 50)\n",
    "    rectangle(190, state[2], 10, 50)\n",
    "\n",
    "    ball.move(aim)\n",
    "    x = ball.x\n",
    "    y = ball.y\n",
    "\n",
    "    up()\n",
    "    goto(x, y)\n",
    "    dot(10)  # define the size of the ball\n",
    "    update()\n",
    "\n",
    "    if y < -200 or y > 200:\n",
    "        aim.y = -aim.y\n",
    "\n",
    "    if x < -185:\n",
    "        low = state[1]\n",
    "        high = state[1] + 50\n",
    "\n",
    "        if low <= y <= high:\n",
    "            aim.x = -aim.x\n",
    "        else:\n",
    "            return\n",
    "\n",
    "    if x > 185:\n",
    "        low = state[2]\n",
    "        high = state[2] + 50\n",
    "\n",
    "        if low <= y <= high:\n",
    "            aim.x = -aim.x\n",
    "        else:\n",
    "            return\n",
    "\n",
    "    ontimer(draw, 200)   #control the speed of the movement; time unit = millisecond\n",
    "    \n",
    "\n",
    "setup(420, 420, 370, 0)\n",
    "hideturtle()\n",
    "tracer(False)\n",
    "listen()\n",
    "onkey(lambda: move(1, 20), 'w')\n",
    "onkey(lambda: move(1, -20), 's')\n",
    "onkey(lambda: move(2, 20), 'i')\n",
    "onkey(lambda: move(2, -20), 'k')\n",
    "draw()\n",
    "done()"
   ]
  },
  {
   "cell_type": "code",
   "execution_count": null,
   "metadata": {
    "code_folding": []
   },
   "outputs": [],
   "source": [
    "#draw one square\n",
    "import turtle\n",
    "skk = turtle.Turtle()\n",
    "for i in range(4):\n",
    "    skk.forward(50)\n",
    "    skk.right(90)\n",
    "turtle.done()\n"
   ]
  },
  {
   "cell_type": "code",
   "execution_count": 1,
   "metadata": {
    "scrolled": true
   },
   "outputs": [],
   "source": [
    "import turtle\n",
    "wn = turtle.Screen()\n",
    "wn.bgcolor(\"light green\")\n",
    "wn.title(\"Turtle\")\n",
    "skk = turtle.Turtle()\n",
    "skk.forward(100)"
   ]
  },
  {
   "cell_type": "code",
   "execution_count": null,
   "metadata": {
    "scrolled": true
   },
   "outputs": [],
   "source": [
    "#draw squares\n",
    "import turtle   #Outside_In \n",
    "wn = turtle.Screen() \n",
    "wn.bgcolor(\"light green\") \n",
    "wn.title(\"Turtle\") \n",
    "skk = turtle.Turtle() \n",
    "skk.color(\"blue\") \n",
    "  \n",
    "def sqrfunc(size): \n",
    "    for i in range(4): \n",
    "        skk.fd(size) \n",
    "        skk.left(90) \n",
    "        size = size-5\n",
    "  \n",
    "sqrfunc(146) \n",
    "sqrfunc(126) \n",
    "sqrfunc(106) \n",
    "sqrfunc(86) \n",
    "sqrfunc(66) \n",
    "sqrfunc(46) \n",
    "sqrfunc(26) "
   ]
  },
  {
   "cell_type": "code",
   "execution_count": null,
   "metadata": {
    "scrolled": true
   },
   "outputs": [],
   "source": [
    "#draw Spiral Helix Pattern\n",
    "import turtle \n",
    "loadWindow = turtle.Screen() \n",
    "turtle.speed(2) \n",
    "  \n",
    "for i in range(100): \n",
    "    turtle.circle(5*i) #circular shape, radius=5*i\n",
    "    turtle.circle(-5*i) \n",
    "    turtle.left(i) # turn left, counterclockwise, i degree\n",
    "  \n",
    "turtle.exitonclick() "
   ]
  },
  {
   "cell_type": "code",
   "execution_count": null,
   "metadata": {},
   "outputs": [],
   "source": [
    "#Rainbow rectangles\n",
    "import turtle \n",
    "colors = ['red', 'purple', 'blue', 'green', 'orange', 'yellow'] \n",
    "t = turtle.Pen() \n",
    "turtle.bgcolor('black') # black background\n",
    "turtle.speed(100) \n",
    "for x in range(360): \n",
    "    t.pencolor(colors[x%6]) \n",
    "    t.width(x/100 + 1) \n",
    "    t.forward(x+2) \n",
    "    t.fillcolor(colors[x%6])\n",
    "    t.left(58) # turn left, counterclockwise, 59 degree\n",
    "\"\"\"\n",
    "    if (x%10) > 8:\n",
    "        t.pencolor(colors[x%6]) \n",
    "        t.width(x/100 + 1) \n",
    "        t.forward(x*3) \n",
    "        t.fillcolor(colors[x%6])\n",
    "        t.left(90)\n",
    "turtle.exitonclick() \n",
    "\"\"\""
   ]
  },
  {
   "cell_type": "code",
   "execution_count": null,
   "metadata": {
    "scrolled": true
   },
   "outputs": [],
   "source": [
    "#Rainbow circles\n",
    "import turtle \n",
    "colors = ['red', 'purple', 'blue', 'green', 'orange', 'yellow'] \n",
    "t = turtle.Pen() \n",
    "turtle.bgcolor('black') # black background\n",
    "turtle.speed(100) \n",
    "for x in range(360): \n",
    "    t.pencolor(colors[x%6]) \n",
    "    t.circle(5*x) #circular shape, radius=5*i\n",
    "    t.circle(-5*x) \n",
    "    t.left(30) # turn x degree\n",
    "\n"
   ]
  },
  {
   "cell_type": "code",
   "execution_count": null,
   "metadata": {
    "scrolled": true
   },
   "outputs": [],
   "source": []
  }
 ],
 "metadata": {
  "kernelspec": {
   "display_name": "Python 3 (ipykernel)",
   "language": "python",
   "name": "python3"
  },
  "language_info": {
   "codemirror_mode": {
    "name": "ipython",
    "version": 3
   },
   "file_extension": ".py",
   "mimetype": "text/x-python",
   "name": "python",
   "nbconvert_exporter": "python",
   "pygments_lexer": "ipython3",
   "version": "3.11.5"
  }
 },
 "nbformat": 4,
 "nbformat_minor": 2
}
