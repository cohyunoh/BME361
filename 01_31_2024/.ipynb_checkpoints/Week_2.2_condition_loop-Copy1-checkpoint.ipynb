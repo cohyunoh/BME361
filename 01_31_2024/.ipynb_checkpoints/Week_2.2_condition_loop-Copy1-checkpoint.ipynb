{
 "cells": [
  {
   "cell_type": "markdown",
   "metadata": {},
   "source": [
    "### if condition"
   ]
  },
  {
   "cell_type": "code",
   "execution_count": 2,
   "metadata": {},
   "outputs": [
    {
     "name": "stdout",
     "output_type": "stream",
     "text": [
      "30\n",
      "Failed!\n"
     ]
    }
   ],
   "source": [
    "# when else is used together with if\n",
    "grade = int(input())\n",
    "if grade >= 60:\n",
    "    print(\"Passed!\")\n",
    "else:\n",
    "    print(\"Failed!\")"
   ]
  },
  {
   "cell_type": "code",
   "execution_count": 3,
   "metadata": {},
   "outputs": [
    {
     "name": "stdout",
     "output_type": "stream",
     "text": [
      "50\n",
      "I got it!\n"
     ]
    },
    {
     "data": {
      "text/plain": [
       "'Failed!'"
      ]
     },
     "execution_count": 3,
     "metadata": {},
     "output_type": "execute_result"
    }
   ],
   "source": [
    "#Sometimes the suites in an if…else statement assign different values to a \n",
    "#variable, based on a condition\n",
    "grade = int(input())\n",
    "if grade >= 60:\n",
    "    result = \"Passed!\"\n",
    "else:\n",
    "    result = \"Failed!\"\n",
    "    if 'a':\n",
    "        print('I got it!')\n",
    "    else:\n",
    "        print('no')\n",
    "        \n",
    "result"
   ]
  },
  {
   "cell_type": "code",
   "execution_count": null,
   "metadata": {},
   "outputs": [],
   "source": [
    "# a more concise expression can be like this. Called  conditional expression\n",
    "result = (\"Passed\" if grade >=60 else \"Failed\")\n",
    "result"
   ]
  },
  {
   "cell_type": "code",
   "execution_count": 4,
   "metadata": {
    "scrolled": true
   },
   "outputs": [
    {
     "data": {
      "text/plain": [
       "'Passed'"
      ]
     },
     "execution_count": 4,
     "metadata": {},
     "output_type": "execute_result"
    }
   ],
   "source": [
    "# or you can evaluate the expression directly\n",
    "grade = 98\n",
    "\"Passed\" if grade >=60 else \"Failed\""
   ]
  },
  {
   "cell_type": "code",
   "execution_count": null,
   "metadata": {},
   "outputs": [],
   "source": [
    "#How to express multiple conditions in one line?\n",
    "grade =76\n",
    "\"A\" if grade>95 'B' elif grade>76 else \"f\""
   ]
  },
  {
   "cell_type": "code",
   "execution_count": null,
   "metadata": {},
   "outputs": [],
   "source": [
    "# Multiple conditions\n",
    "# if...elif...else statement\n",
    "# Q:what happens if you don't have 'else' and print('F') statement?\n",
    "grade = int(input())\n",
    "if grade >=90:\n",
    "    print(\"A\")\n",
    "elif grade >= 80:\n",
    "    print(\"B\")\n",
    "elif grade >= 70:\n",
    "    print(\"C\")\n",
    "elif grade >= 60:\n",
    "    print(\"D\")\n",
    "else:\n",
    "    print(\"F\")"
   ]
  },
  {
   "cell_type": "markdown",
   "metadata": {},
   "source": [
    "### How can we rewrite the program in one line?"
   ]
  },
  {
   "cell_type": "code",
   "execution_count": 3,
   "metadata": {},
   "outputs": [
    {
     "name": "stdout",
     "output_type": "stream",
     "text": [
      "56\n",
      "F\n"
     ]
    }
   ],
   "source": [
    "grade = int(input())\n",
    "\"A\" if grade>=90 else (\"B\" if grade>=80 else (\"C\" if grade>=70 else \"D\" if grade>=60 else print(\"F\")))"
   ]
  },
  {
   "cell_type": "markdown",
   "metadata": {},
   "source": [
    "### Q1: Write a program - give an input of temperature, decide whether it is 'warm', 'too hot', 'cold' or 'freezing cold'. Set a threshold. Share it to us."
   ]
  },
  {
   "cell_type": "code",
   "execution_count": null,
   "metadata": {},
   "outputs": [],
   "source": [
    "temp = int(input(\"What is the temperature outside: \"))\n",
    "threshold = [100,75,32,0]\n",
    "if temp>threshold[0]:\n",
    "    print('too hot')\n",
    "elif temp>threshold[1]:\n",
    "    print('warm')\n",
    "elif temp>threshold[2]:\n",
    "    print('cold')\n",
    "elif temp>threshold[3]:\n",
    "    print('freezing cold')\n",
    "else:\n",
    "    print('beyond freezing. stay inside')"
   ]
  },
  {
   "cell_type": "code",
   "execution_count": 3,
   "metadata": {},
   "outputs": [
    {
     "name": "stdout",
     "output_type": "stream",
     "text": [
      "What is the temperature outside: 35\n"
     ]
    },
    {
     "data": {
      "text/plain": [
       "'cold'"
      ]
     },
     "execution_count": 3,
     "metadata": {},
     "output_type": "execute_result"
    }
   ],
   "source": [
    "temp = int(input(\"What is the temperature outside: \"))\n",
    "threshold = [100,75,32,0]\n",
    "'too hot' if temp>threshold[0] else ('warm' if temp>threshold[1] else('cold' if temp>threshold[2] else('too cold' if temp>threshold[3] else 'beyond freezing. stay inside')))"
   ]
  },
  {
   "cell_type": "markdown",
   "metadata": {},
   "source": [
    "### some examples of boolean.\n"
   ]
  },
  {
   "cell_type": "code",
   "execution_count": null,
   "metadata": {},
   "outputs": [],
   "source": [
    "# and, or   - the lowest order of precedence\n",
    "gender = \"female\"\n",
    "age = 56\n",
    "if gender == \"female\" or age >=65:  # you can try or\n",
    "    print(\"senior people\")\n",
    "else:\n",
    "    print(\"not senior people\")"
   ]
  },
  {
   "cell_type": "code",
   "execution_count": null,
   "metadata": {},
   "outputs": [],
   "source": [
    "# not is more general and more useful\n",
    "grade = 91\n",
    "if not grade<=60:\n",
    "    print(\"This grade at\", grade, \"is passed.\")\n",
    "    "
   ]
  },
  {
   "cell_type": "code",
   "execution_count": null,
   "metadata": {},
   "outputs": [],
   "source": [
    "if grade !=60:\n",
    "    print(\" It is not 60\")"
   ]
  },
  {
   "cell_type": "markdown",
   "metadata": {},
   "source": [
    "### while and for loop\n",
    "- Loops (repeated steps) have iteration variables that change each time through a loop.  Often these iteration variables go through a sequence of numbers."
   ]
  },
  {
   "cell_type": "code",
   "execution_count": null,
   "metadata": {},
   "outputs": [],
   "source": [
    "# Repeat steps\n",
    "n =5\n",
    "while n > 0:\n",
    "    print(n, end='')\n",
    "    n = n -1\n",
    "print(\"Blastoff!\")\n",
    "print(n)"
   ]
  },
  {
   "cell_type": "code",
   "execution_count": null,
   "metadata": {},
   "outputs": [],
   "source": [
    "# finishing an interation with continue\n",
    "# continue can end the current interation and start a new interation\n",
    "# Once continue is executed, the statements after continue will be ignored.\n",
    "while True:\n",
    "    line = input(\">\")\n",
    "    if line[0] == \"#\":\n",
    "        print('keep going!')\n",
    "        continue\n",
    "    if line == \"done\":\n",
    "        break\n",
    "    print(line)\n",
    "    \n",
    "print('Game over!')"
   ]
  },
  {
   "cell_type": "markdown",
   "metadata": {},
   "source": [
    "**for loop**"
   ]
  },
  {
   "cell_type": "code",
   "execution_count": null,
   "metadata": {},
   "outputs": [],
   "source": [
    "#iteration using string. Note this is one string instead of multipl strings\n",
    "for character in \"Programming\":\n",
    "    print(character, end=' ')   #default end is \\n, which changes line."
   ]
  },
  {
   "cell_type": "code",
   "execution_count": null,
   "metadata": {},
   "outputs": [],
   "source": [
    "#try another printing method\n",
    "print(10, 20, 30, sep=',-space- ')"
   ]
  },
  {
   "cell_type": "code",
   "execution_count": null,
   "metadata": {},
   "outputs": [],
   "source": [
    "#iteration using list\n",
    "total = 0\n",
    "for number in [2, -5, 2, 33, -12]:\n",
    "    total = total + number\n",
    "\n",
    "print(total)"
   ]
  },
  {
   "cell_type": "code",
   "execution_count": null,
   "metadata": {},
   "outputs": [],
   "source": [
    "#iteration using range\n",
    "for counting in range (-5,6):\n",
    "    print(counting, end=' ')"
   ]
  },
  {
   "cell_type": "code",
   "execution_count": null,
   "metadata": {},
   "outputs": [],
   "source": [
    "list(range(-5, 6))"
   ]
  },
  {
   "cell_type": "code",
   "execution_count": null,
   "metadata": {},
   "outputs": [],
   "source": [
    "#using augmented assignments\n",
    "total = 0\n",
    "for number in range(1,6):\n",
    "    total += number  # total = total + number\n",
    "print(total)"
   ]
  },
  {
   "cell_type": "code",
   "execution_count": null,
   "metadata": {},
   "outputs": [],
   "source": [
    "#Function range’s three-argument version produces a sequence of integers from \n",
    "#its first argument’s value up to, but not including, the second argument’s \n",
    "#value, incrementing by the third argument’s value\n",
    "\n",
    "for number in range(0, 10, 2):\n",
    "    print(number, end=' ')"
   ]
  },
  {
   "cell_type": "code",
   "execution_count": null,
   "metadata": {},
   "outputs": [],
   "source": [
    "for number in range(20, 0, -4):\n",
    "    print(number, end=\" \")"
   ]
  },
  {
   "cell_type": "code",
   "execution_count": 5,
   "metadata": {},
   "outputs": [
    {
     "data": {
      "text/plain": [
       "[2,\n",
       " 4,\n",
       " 6,\n",
       " 8,\n",
       " 10,\n",
       " 12,\n",
       " 14,\n",
       " 16,\n",
       " 18,\n",
       " 20,\n",
       " 22,\n",
       " 24,\n",
       " 26,\n",
       " 28,\n",
       " 30,\n",
       " 32,\n",
       " 34,\n",
       " 36,\n",
       " 38,\n",
       " 40,\n",
       " 42,\n",
       " 44,\n",
       " 46,\n",
       " 48,\n",
       " 50,\n",
       " 52,\n",
       " 54,\n",
       " 56,\n",
       " 58,\n",
       " 60,\n",
       " 62,\n",
       " 64,\n",
       " 66,\n",
       " 68,\n",
       " 70,\n",
       " 72,\n",
       " 74,\n",
       " 76,\n",
       " 78,\n",
       " 80,\n",
       " 82,\n",
       " 84,\n",
       " 86,\n",
       " 88,\n",
       " 90,\n",
       " 92,\n",
       " 94,\n",
       " 96,\n",
       " 98]"
      ]
     },
     "execution_count": 5,
     "metadata": {},
     "output_type": "execute_result"
    }
   ],
   "source": [
    "list(range(2,100, 2))"
   ]
  },
  {
   "cell_type": "markdown",
   "metadata": {},
   "source": [
    "### Q2: write a program to multiple all the even numbers from 2 to 100."
   ]
  },
  {
   "cell_type": "code",
   "execution_count": 12,
   "metadata": {},
   "outputs": [
    {
     "name": "stdout",
     "output_type": "stream",
     "text": [
      "34243224702511976248246432895208185975118675053719198827915654463488000000000000 "
     ]
    }
   ],
   "source": [
    "product = 1\n",
    "for number in range(2,102,2):\n",
    "    product *= number\n",
    "print(product, end=\" \")"
   ]
  },
  {
   "cell_type": "markdown",
   "metadata": {},
   "source": [
    "###### Insert break and continue statements"
   ]
  },
  {
   "cell_type": "code",
   "execution_count": null,
   "metadata": {},
   "outputs": [],
   "source": [
    "# Executing a break statement in a while or for immediately exits that statement.\n",
    "for number in range(0,100):\n",
    "    if number == 10:\n",
    "        print(\"Am I processed?\")\n",
    "        break\n",
    "        \n",
    "    print(number, end= \" \")"
   ]
  },
  {
   "cell_type": "code",
   "execution_count": null,
   "metadata": {
    "scrolled": true
   },
   "outputs": [],
   "source": [
    "#Will \"Am I processed?\" be printed out?\n",
    "\n",
    "for number in range(0, 10):\n",
    "    if number == 5:\n",
    "        continue\n",
    "        print(\"Am I processed?\")\n",
    "    print(number, end= \" \")"
   ]
  },
  {
   "cell_type": "markdown",
   "metadata": {},
   "source": [
    "**f-string. Let's touch the base.** \\\n",
    "**Note:**\n",
    "f in the above print statement means formatted string. It allows inserting values into a string.\n",
    "- Put f before the string opening quote\n",
    "- specify where to insert values by curly braces { }\n",
    "- f string could be inside of print()"
   ]
  },
  {
   "cell_type": "code",
   "execution_count": null,
   "metadata": {},
   "outputs": [],
   "source": [
    "name = \"John\"\n",
    "print(\"Hello, %s!\" % name)"
   ]
  },
  {
   "cell_type": "code",
   "execution_count": null,
   "metadata": {},
   "outputs": [],
   "source": [
    "f\"{2*23}\""
   ]
  },
  {
   "cell_type": "markdown",
   "metadata": {},
   "source": [
    "### Q3: write a program to include if condition or for loop within f string"
   ]
  },
  {
   "cell_type": "code",
   "execution_count": 19,
   "metadata": {},
   "outputs": [
    {
     "name": "stdout",
     "output_type": "stream",
     "text": [
      "How do you feel today on a scale from 1 to 10?: 5\n"
     ]
    },
    {
     "data": {
      "text/plain": [
       "'Uh Oh'"
      ]
     },
     "execution_count": 19,
     "metadata": {},
     "output_type": "execute_result"
    }
   ],
   "source": [
    "feeling=int(input(\"How do you feel today on a scale from 1 to 10?: \"))\n",
    "f\"{'Nice' if feeling>6 else 'Uh Oh'}\""
   ]
  },
  {
   "cell_type": "code",
   "execution_count": 14,
   "metadata": {},
   "outputs": [
    {
     "data": {
      "text/plain": [
       "'Hello, Eric. You are 37.'"
      ]
     },
     "execution_count": 14,
     "metadata": {},
     "output_type": "execute_result"
    }
   ],
   "source": [
    "name = \"Eric\"\n",
    "age = 74\n",
    "\n",
    "f\"Hello, {name}. You are {int(age/2)}.\"  # or, print (f\"Hello, {name}. You are {age}.\")"
   ]
  },
  {
   "cell_type": "code",
   "execution_count": null,
   "metadata": {},
   "outputs": [],
   "source": [
    "f\"{name.upper()} is funny.\""
   ]
  },
  {
   "cell_type": "code",
   "execution_count": 16,
   "metadata": {},
   "outputs": [
    {
     "data": {
      "text/plain": [
       "'Hi Eric. You are a comedian. you are in Monty Python'"
      ]
     },
     "execution_count": 16,
     "metadata": {},
     "output_type": "execute_result"
    }
   ],
   "source": [
    "# multiline f-string\n",
    "name = \"Eric\"\n",
    "profession = \"comedian\"\n",
    "affiliation = \"Monty Python\"\n",
    "f\"Hi {name}. You are a {profession}. you are in {affiliation}\"\n",
    "\n",
    "# What do you expect to see?\n"
   ]
  },
  {
   "cell_type": "code",
   "execution_count": 17,
   "metadata": {},
   "outputs": [
    {
     "name": "stdout",
     "output_type": "stream",
     "text": [
      " 1=   1251.70\n",
      " 2=   1578.22\n",
      " 3=   2004.98\n",
      " 4=   2567.01\n",
      " 5=   3313.10\n",
      " 6=   4311.63\n",
      " 7=   5659.36\n",
      " 8=   7494.33\n",
      " 9=  10015.24\n",
      "10=  13510.86\n"
     ]
    },
    {
     "data": {
      "text/plain": [
       "'10 = 13510.86  '"
      ]
     },
     "execution_count": 17,
     "metadata": {},
     "output_type": "execute_result"
    }
   ],
   "source": [
    "# more complicated string expression within the curly braces\n",
    "interest_rate = 0.0325\n",
    "amount = 1000\n",
    "for year in range(1, 11):\n",
    "    amount = amount**(1 + interest_rate) \n",
    "    print(f\"{year: >2}={amount: > 10.2f}\")\n",
    "\n",
    "f\"{year: <2} = {amount: <10.2f}\""
   ]
  },
  {
   "attachments": {
    "image.png": {
     "image/png": "[encoded data removed]"
    }
   },
   "cell_type": "markdown",
   "metadata": {},
   "source": [
    "{year:>2} \n",
    "- Uses the format specifier >2 to indicate that year’s value should be right aligned (>) in a field of width 2 \\\n",
    "- The field width specifies the number of character positions to use when displaying the value.\n",
    "- Can left align values with <.\n",
    "\n",
    "{amount:>10.2f}\n",
    "- Formats amount as a floating-point number (f) right aligned (>) in a field width of 10 with a decimal point and two digits to the right of the decimal point (.2).\n",
    "![image.png](attachment:image.png)\n"
   ]
  },
  {
   "cell_type": "markdown",
   "metadata": {},
   "source": [
    "### Extra excercise - to make some cool patterns"
   ]
  },
  {
   "cell_type": "code",
   "execution_count": 20,
   "metadata": {},
   "outputs": [
    {
     "name": "stdout",
     "output_type": "stream",
     "text": [
      ">>>>>>>>>>\n",
      "<<<<<<<<<<\n",
      ">>>>>>>>>>\n",
      "<<<<<<<<<<\n",
      ">>>>>>>>>>\n",
      "<<<<<<<<<<\n",
      ">>>>>>>>>>\n",
      "<<<<<<<<<<\n",
      ">>>>>>>>>>\n",
      "<<<<<<<<<<\n"
     ]
    }
   ],
   "source": [
    "# try this and see what happens?\n",
    "for row in range(10):\n",
    "    for column in range(10):\n",
    "        print('<' if row % 2 == 1 else '>', end='')\n",
    "    print()"
   ]
  },
  {
   "cell_type": "code",
   "execution_count": 21,
   "metadata": {
    "scrolled": true
   },
   "outputs": [
    {
     "name": "stdout",
     "output_type": "stream",
     "text": [
      "                                                            \n",
      "                                                            \n",
      "                               *                            \n",
      "                      *  *  *  *  *  *  *                   \n",
      "                *  *  *  *  *  *  *  *  *  *  *             \n",
      "             *  *  *  *  *  *  *  *  *  *  *  *  *          \n",
      "             *  *  *  *  *  *  *  *  *  *  *  *  *          \n",
      "          *  *  *  *  *                 *  *  *  *  *       \n",
      "          *  *  *  *                       *  *  *  *       \n",
      "          *  *  *  *                       *  *  *  *       \n",
      "       *  *  *  *  *                       *  *  *  *  *    \n",
      "          *  *  *  *                       *  *  *  *       \n",
      "          *  *  *  *                       *  *  *  *       \n",
      "          *  *  *  *  *                 *  *  *  *  *       \n",
      "             *  *  *  *  *  *  *  *  *  *  *  *  *          \n",
      "             *  *  *  *  *  *  *  *  *  *  *  *  *          \n",
      "                *  *  *  *  *  *  *  *  *  *  *             \n",
      "                      *  *  *  *  *  *  *                   \n",
      "                               *                            \n",
      "                                                            \n"
     ]
    }
   ],
   "source": [
    "##### try this and see what happens?\n",
    "for row in range(-10,10):\n",
    "    for column in range(-10, 10):\n",
    "        print(' * ' if (row**2 + column**2)**0.5 <= 8 and (row**2 + column**2)**0.5 >= 4  else '   ', end='')\n",
    "    print()"
   ]
  },
  {
   "cell_type": "code",
   "execution_count": 22,
   "metadata": {},
   "outputs": [
    {
     "name": "stdout",
     "output_type": "stream",
     "text": [
      "                                                                                                                        \n",
      "                                                                                                                        \n",
      "                                                                                                                        \n",
      "                                                                                                                        \n",
      "                                                                                                                        \n",
      "                                                                                                                        \n",
      "                                                                                                                        \n",
      "                                                             *                                                            \n",
      "                                                 *     *     *     *     *     *     *                                                \n",
      "                                         *     *     *     *     *     *     *     *     *     *     *                                        \n",
      "                                     *     *     *     *     *     *     *     *     *     *     *     *     *                                    \n",
      "                                     *     *     *     *     *     *     *     *     *     *     *     *     *                                    \n",
      "                                 *     *     *     *     *     *     *     *     *     *     *     *     *     *     *                                \n",
      "                                 *     *     *     *     *     *     *     *     *     *     *     *     *     *     *                                \n",
      "                                 *     *     *     *     *     *     *     *     *     *     *     *     *     *     *                                \n",
      "                             *     *     *     *     *     *     *     *     *     *     *     *     *     *     *     *     *                            \n",
      "                                 *     *     *     *     *     *     *     *     *     *     *     *     *     *     *                                \n",
      "                                 *     *     *     *     *     *     *     *     *     *     *     *     *     *     *                                \n",
      "                                 *     *     *     *     *     *     *     *     *     *     *     *     *     *     *                                \n",
      "                                     *     *     *     *     *     *     *     *     *     *     *     *     *                                    \n",
      "                                     *     *     *     *     *     *     *     *     *     *     *     *     *                                    \n",
      "                                         *     *     *     *     *     *     *     *     *     *     *                                        \n",
      "                                                 *     *     *     *     *     *     *                                                \n",
      "                                                             *                                                            \n",
      "                                                                                                                        \n",
      "                                                                                                                        \n",
      "                                                                                                                        \n",
      "                                                                                                                        \n",
      "                                                                                                                        \n",
      "                                                                                                                        \n"
     ]
    }
   ],
   "source": [
    "##### try this and see what happens?\n",
    "for row in range(-15,15):\n",
    "    for column in range(-15, 15):\n",
    "        print(' * ' if ((row**2 + column**2 )**0.5) <= 8 else ' ', end='   ')\n",
    "    print()"
   ]
  },
  {
   "cell_type": "markdown",
   "metadata": {},
   "source": [
    "### Some examples from previous students"
   ]
  },
  {
   "cell_type": "code",
   "execution_count": 23,
   "metadata": {},
   "outputs": [
    {
     "name": "stdout",
     "output_type": "stream",
     "text": [
      "                      * * *         \n",
      "                    *   *   *     * \n",
      "                  *         * * *   \n",
      "                  *     * *       * \n",
      "                  *   *             \n",
      "*                 *   *             \n",
      "* *         * *   *   *             \n",
      "* *       *     * *   *             \n",
      "*   * * *   * *       *             \n",
      "  *       *     * * *               \n",
      "    * * *                           \n",
      "\u001b[32m      * *   * *       \n",
      "    *     *     *     \n",
      "  * *           * *   \n",
      "*     *       *     * \n",
      "*       *   *       * \n",
      "  *       *       *   \n",
      "*       *   *       * \n",
      "*     *       *     * \n",
      "  * *           * *   \n",
      "    *     *     *     \n",
      "      * *   * *       \n"
     ]
    }
   ],
   "source": [
    "for row in range(11): #11 rows\n",
    "    for col in range(18): #18 columns \n",
    "        if row ==0 and col==11 or row ==0 and col==12 or row ==0 and col ==13:\n",
    "            print('* ', end = \"\")\n",
    "        elif row ==1 and col==10 or row ==1 and col == 12 or row == 1 and col== 14 or row ==1 and col == 17:\n",
    "            print('* ', end = \"\")\n",
    "        elif row == 2 and col ==9 or row ==2 and col ==14 or row ==2 and col == 15 or row ==2 and col ==16:\n",
    "            print('* ', end = \"\")\n",
    "        elif row ==3 and col==9 or row == 3 and col== 12 or row ==3 and col == 13 or row ==3 and col ==17:\n",
    "            print('* ', end = \"\")\n",
    "        elif row ==4 and col==9 or row == 4 and col== 11:\n",
    "            print('* ', end = \"\")\n",
    "        elif row == 5 and col == 0 or row ==5 and col==9 or row == 5 and col== 11:\n",
    "            print('* ', end = \"\")\n",
    "        elif row == 6 and col ==0 or row == 6 and col == 1 or row == 6 and col ==6 or row ==6 and col == 7 or row ==6 and col==9 or row == 6 and col== 11:\n",
    "            print('* ', end = \"\")\n",
    "        elif row == 7 and col ==0 or row ==7 and col == 1 or row ==7 and col == 5 or row ==7 and col ==8 or row ==7 and col==9 or row == 7 and col== 11:\n",
    "            print('* ', end = \"\")\n",
    "        elif row ==8 and col==0 or row == 8 and col== 2 or row == 8 and col == 3 or row ==8 and col == 4 or row == 8 and col ==6 or row ==8 and col ==7 or row ==8 and col == 11: \n",
    "            print('* ', end = \"\")\n",
    "        elif row ==9 and col==1 or row == 9 and col== 5 or row ==9 and col ==8 or row ==9 and col ==9 or row ==9 and col ==10:\n",
    "            print('* ', end = \"\")\n",
    "        elif row ==10 and col==2 or row == 10 and col== 3 or row == 10 and col ==4:\n",
    "            print('* ', end = \"\")\n",
    "        else:\n",
    "            print(\"  \", end = \"\")\n",
    "    print()\n",
    "                \n",
    "\n",
    "\n",
    "# In[2]:\n",
    "\n",
    "print('\\033[32m',end=\"\")\n",
    "for row in range(11): #11 rows\n",
    "    for col in range(11):# 11 columns\n",
    "        if row==0 and col==3 or row==0 and col==4 or row==0 and col==6 or row==0 and col==7:\n",
    "            print('* ',end=\"\")\n",
    "        elif row==1 and col==2 or row==1 and col==5 or row==1 and col==8:\n",
    "            print('* ',end=\"\")\n",
    "        elif row==2 and col==1 or row==2 and col==2 or row==2 and col==8 or row==2 and col==9:\n",
    "            print('* ',end=\"\")\n",
    "        elif row==3 and col==0 or row==3 and col==3 or row==3 and col==7 or row==3 and col==10:\n",
    "            print('* ',end=\"\")\n",
    "        elif row==4 and col==0 or row==4 and col==4 or row==4 and col==6 or row==4 and col==10:\n",
    "            print('* ',end=\"\")\n",
    "        elif row==5 and col==1 or row==5 and col==5 or row==5 and col==9:\n",
    "            print('* ',end=\"\")\n",
    "        elif row==6 and col==0 or row==6 and col==4 or row==6 and col==6 or row==6 and col==10:\n",
    "            print('* ',end=\"\")\n",
    "        elif row==7 and col==0 or row==7 and col==3 or row==7 and col==7 or row==7 and col==10:\n",
    "            print('* ',end=\"\")\n",
    "        elif row==8 and col==1 or row==8 and col==2 or row==8 and col==8 or row==8 and col==9:\n",
    "            print('* ',end=\"\")\n",
    "        elif row==9 and col==2 or row==9 and col==5 or row==9 and col==8:\n",
    "            print('* ',end=\"\")\n",
    "        elif row==10 and col==3 or row==10 and col==4 or row==10 and col==6 or row==10 and col==7:\n",
    "            print('* ',end=\"\")\n",
    "        else:\n",
    "            print(\" \",end=\" \")\n",
    "    print()"
   ]
  },
  {
   "cell_type": "code",
   "execution_count": 24,
   "metadata": {},
   "outputs": [
    {
     "name": "stdout",
     "output_type": "stream",
     "text": [
      "🔵🔵🔵🔵🔵🔵🔵🔵🔵🔵🔵🔵🔵🔵🔵🔵🔴🔴🔴🔴🔴🔴🔴🔴🔴🔴🔴🔴🔴🔴🔴🔴🔴🔴🔴🔴🔴🔴🔴🔴\n",
      "🔵🔵🔵🔵🔵🔵🔵🔵🔵🔵🔵🔵🔵🔵🔵🔵⚪⚪⚪⚪⚪⚪⚪⚪⚪⚪⚪⚪⚪⚪⚪⚪⚪⚪⚪⚪⚪⚪⚪⚪\n",
      "🔵🔵🔵🔵🔵🔵🔵🔵🔵🔵🔵🔵🔵🔵🔵🔵🔴🔴🔴🔴🔴🔴🔴🔴🔴🔴🔴🔴🔴🔴🔴🔴🔴🔴🔴🔴🔴🔴🔴🔴\n",
      "🔵🔵🔵🔵🔵🔵🔵🔵🔵🔵🔵🔵🔵🔵🔵🔵⚪⚪⚪⚪⚪⚪⚪⚪⚪⚪⚪⚪⚪⚪⚪⚪⚪⚪⚪⚪⚪⚪⚪⚪\n",
      "🔵🔵🔵🔵🔵🔵🔵🔵🔵🔵🔵🔵🔵🔵🔵🔵🔴🔴🔴🔴🔴🔴🔴🔴🔴🔴🔴🔴🔴🔴🔴🔴🔴🔴🔴🔴🔴🔴🔴🔴\n",
      "🔵🔵🔵🔵🔵🔵🔵🔵🔵🔵🔵🔵🔵🔵🔵🔵⚪⚪⚪⚪⚪⚪⚪⚪⚪⚪⚪⚪⚪⚪⚪⚪⚪⚪⚪⚪⚪⚪⚪⚪\n",
      "🔵🔵🔵🔵🔵🔵🔵🔵🔵🔵🔵🔵🔵🔵🔵🔵🔴🔴🔴🔴🔴🔴🔴🔴🔴🔴🔴🔴🔴🔴🔴🔴🔴🔴🔴🔴🔴🔴🔴🔴\n",
      "⚪⚪⚪⚪⚪⚪⚪⚪⚪⚪⚪⚪⚪⚪⚪⚪⚪⚪⚪⚪⚪⚪⚪⚪⚪⚪⚪⚪⚪⚪⚪⚪⚪⚪⚪⚪⚪⚪⚪⚪\n",
      "🔴🔴🔴🔴🔴🔴🔴🔴🔴🔴🔴🔴🔴🔴🔴🔴🔴🔴🔴🔴🔴🔴🔴🔴🔴🔴🔴🔴🔴🔴🔴🔴🔴🔴🔴🔴🔴🔴🔴🔴\n",
      "⚪⚪⚪⚪⚪⚪⚪⚪⚪⚪⚪⚪⚪⚪⚪⚪⚪⚪⚪⚪⚪⚪⚪⚪⚪⚪⚪⚪⚪⚪⚪⚪⚪⚪⚪⚪⚪⚪⚪⚪\n",
      "🔴🔴🔴🔴🔴🔴🔴🔴🔴🔴🔴🔴🔴🔴🔴🔴🔴🔴🔴🔴🔴🔴🔴🔴🔴🔴🔴🔴🔴🔴🔴🔴🔴🔴🔴🔴🔴🔴🔴🔴\n",
      "⚪⚪⚪⚪⚪⚪⚪⚪⚪⚪⚪⚪⚪⚪⚪⚪⚪⚪⚪⚪⚪⚪⚪⚪⚪⚪⚪⚪⚪⚪⚪⚪⚪⚪⚪⚪⚪⚪⚪⚪\n",
      "🔴🔴🔴🔴🔴🔴🔴🔴🔴🔴🔴🔴🔴🔴🔴🔴🔴🔴🔴🔴🔴🔴🔴🔴🔴🔴🔴🔴🔴🔴🔴🔴🔴🔴🔴🔴🔴🔴🔴🔴\n"
     ]
    }
   ],
   "source": [
    "#Ranges in loops define size of flag\n",
    "for r in range(0,13):\n",
    "    for c in range (0,40):\n",
    "        if r < 8:\n",
    "            #Define when to print blue portion\n",
    "            if c < 16 and r!=7:\n",
    "                print(\"🔵\",end=\"\")\n",
    "            #Prints red stripes on even values of r and white stripes on odd values of r\n",
    "            elif r%2 == 0:\n",
    "                print(\"🔴\",end=\"\")\n",
    "            else:\n",
    "                print(\"⚪\",end=\"\")\n",
    "        elif r%2 == 0:\n",
    "            print(\"🔴\",end=\"\")\n",
    "        else: \n",
    "            print(\"⚪\",end=\"\")\n",
    "    #Move to the next line\n",
    "    print()"
   ]
  },
  {
   "cell_type": "code",
   "execution_count": null,
   "metadata": {},
   "outputs": [],
   "source": []
  }
 ],
 "metadata": {
  "kernelspec": {
   "display_name": "Python 3 (ipykernel)",
   "language": "python",
   "name": "python3"
  },
  "language_info": {
   "codemirror_mode": {
    "name": "ipython",
    "version": 3
   },
   "file_extension": ".py",
   "mimetype": "text/x-python",
   "name": "python",
   "nbconvert_exporter": "python",
   "pygments_lexer": "ipython3",
   "version": "3.11.5"
  }
 },
 "nbformat": 4,
 "nbformat_minor": 2
}
